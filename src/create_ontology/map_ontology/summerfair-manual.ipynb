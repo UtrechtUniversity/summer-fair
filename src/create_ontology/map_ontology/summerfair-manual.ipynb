{
 "cells": [
  {
   "cell_type": "markdown",
   "id": "fc28d8f5",
   "metadata": {},
   "source": [
    "# Integrate existing data sets on transmission experiments"
   ]
  },
  {
   "cell_type": "code",
   "execution_count": 1,
   "id": "ab7c94c7",
   "metadata": {},
   "outputs": [],
   "source": [
    "from pathlib import Path\n",
    "import pandas as pd\n",
    "from mappings import Mappings\n",
    "from ontology import Ontology\n",
    "from dataset import Dataset"
   ]
  },
  {
   "cell_type": "markdown",
   "id": "f5e7e4c2",
   "metadata": {},
   "source": [
    "## Provide files ##"
   ]
  },
  {
   "cell_type": "markdown",
   "id": "2d2b1e49",
   "metadata": {},
   "source": [
    "**Dataset**"
   ]
  },
  {
   "cell_type": "code",
   "execution_count": 2,
   "id": "298c1cdb",
   "metadata": {},
   "outputs": [],
   "source": [
    "data_dir = Path('../../../data/examples')"
   ]
  },
  {
   "cell_type": "code",
   "execution_count": 15,
   "id": "9fcbb657",
   "metadata": {},
   "outputs": [],
   "source": [
    "#trans_data = Path.cwd()/'data_maldi_UU_2_updated.xlsx'\n",
    "trans_data_original = data_dir/'sample1_original.csv'\n",
    "trans_data = data_dir/'sample1_modified.csv'\n",
    "trans_data2 = data_dir/ 'sample2.csv'"
   ]
  },
  {
   "cell_type": "markdown",
   "id": "3230365b",
   "metadata": {},
   "source": [
    "**Mapping file**"
   ]
  },
  {
   "cell_type": "code",
   "execution_count": 24,
   "id": "80de6eb3",
   "metadata": {},
   "outputs": [],
   "source": [
    "config1 = data_dir/'sample1_mapping.yml'\n",
    "config2 = data_dir/'sample2_mapping.yml'\n"
   ]
  },
  {
   "cell_type": "markdown",
   "id": "d45d7951",
   "metadata": {},
   "source": [
    "**Ontology schema**"
   ]
  },
  {
   "cell_type": "code",
   "execution_count": 33,
   "id": "0e976f40",
   "metadata": {},
   "outputs": [],
   "source": [
    "ont_file = Path.cwd()/'infection_trans.owl'"
   ]
  },
  {
   "cell_type": "markdown",
   "id": "4a3982a1",
   "metadata": {},
   "source": [
    "# Example 1\n"
   ]
  },
  {
   "cell_type": "markdown",
   "id": "58df3f18",
   "metadata": {},
   "source": [
    "### Original dataset"
   ]
  },
  {
   "cell_type": "code",
   "execution_count": 6,
   "id": "67448db8",
   "metadata": {
    "scrolled": true
   },
   "outputs": [
    {
     "data": {
      "text/html": [
       "<div>\n",
       "<style scoped>\n",
       "    .dataframe tbody tr th:only-of-type {\n",
       "        vertical-align: middle;\n",
       "    }\n",
       "\n",
       "    .dataframe tbody tr th {\n",
       "        vertical-align: top;\n",
       "    }\n",
       "\n",
       "    .dataframe thead th {\n",
       "        text-align: right;\n",
       "    }\n",
       "</style>\n",
       "<table border=\"1\" class=\"dataframe\">\n",
       "  <thead>\n",
       "    <tr style=\"text-align: right;\">\n",
       "      <th></th>\n",
       "      <th>chicken_id</th>\n",
       "      <th>type</th>\n",
       "      <th>sex</th>\n",
       "      <th>pen</th>\n",
       "      <th>house</th>\n",
       "      <th>D3</th>\n",
       "      <th>D4 12:00</th>\n",
       "      <th>D4 16:00</th>\n",
       "    </tr>\n",
       "  </thead>\n",
       "  <tbody>\n",
       "    <tr>\n",
       "      <th>0</th>\n",
       "      <td>12345</td>\n",
       "      <td>I</td>\n",
       "      <td>F</td>\n",
       "      <td>10</td>\n",
       "      <td>1</td>\n",
       "      <td>-</td>\n",
       "      <td>-</td>\n",
       "      <td>+</td>\n",
       "    </tr>\n",
       "  </tbody>\n",
       "</table>\n",
       "</div>"
      ],
      "text/plain": [
       "   chicken_id type sex  pen  house D3 D4 12:00 D4 16:00\n",
       "0       12345    I   F   10      1  -        -        +"
      ]
     },
     "execution_count": 6,
     "metadata": {},
     "output_type": "execute_result"
    }
   ],
   "source": [
    "dataset_original = pd.read_csv(trans_data_original)\n",
    "\n",
    "dataset_original"
   ]
  },
  {
   "cell_type": "markdown",
   "id": "3a7c85d0",
   "metadata": {},
   "source": [
    "* The samples are taken on day 3 (no hour is specified), and 2 samples at day 4 (12:00 and 16:00). \n",
    "\n",
    "* We need to update the data in order to be able to create triples:\n",
    "\n",
    "    1. The day of the sample in separate column -> create new column for each sample with day value\n",
    "\n",
    "    2. If one of the samemples has specified an hour, others should specify as well -> we need to specify hour for sample taken on day3\n",
    "    3. We should understand that sample result of one sample is related to the sample day and hour based on column names -> use sample's ordered number for column names. For example, sample1_date, sample2_date ..."
   ]
  },
  {
   "cell_type": "markdown",
   "id": "0532fa67",
   "metadata": {},
   "source": [
    "## Corresponding preprocessed dataset"
   ]
  },
  {
   "cell_type": "markdown",
   "id": "16ce7b31",
   "metadata": {},
   "source": [
    "#### the step of renaming columns  and creating new ones should be manully preformed before creating the linked triples"
   ]
  },
  {
   "cell_type": "code",
   "execution_count": 7,
   "id": "1e3b9f84",
   "metadata": {},
   "outputs": [
    {
     "data": {
      "text/html": [
       "<div>\n",
       "<style scoped>\n",
       "    .dataframe tbody tr th:only-of-type {\n",
       "        vertical-align: middle;\n",
       "    }\n",
       "\n",
       "    .dataframe tbody tr th {\n",
       "        vertical-align: top;\n",
       "    }\n",
       "\n",
       "    .dataframe thead th {\n",
       "        text-align: right;\n",
       "    }\n",
       "</style>\n",
       "<table border=\"1\" class=\"dataframe\">\n",
       "  <thead>\n",
       "    <tr style=\"text-align: right;\">\n",
       "      <th></th>\n",
       "      <th>chicken_id</th>\n",
       "      <th>type</th>\n",
       "      <th>sex</th>\n",
       "      <th>pen</th>\n",
       "      <th>house</th>\n",
       "      <th>sample1_day</th>\n",
       "      <th>sample1_hour</th>\n",
       "      <th>sample1_result</th>\n",
       "      <th>sample2_day</th>\n",
       "      <th>sample2_hour</th>\n",
       "      <th>sample2_result</th>\n",
       "      <th>sample3_day</th>\n",
       "      <th>sample3_hour</th>\n",
       "      <th>sample3_result</th>\n",
       "    </tr>\n",
       "  </thead>\n",
       "  <tbody>\n",
       "    <tr>\n",
       "      <th>0</th>\n",
       "      <td>12345</td>\n",
       "      <td>I</td>\n",
       "      <td>F</td>\n",
       "      <td>10</td>\n",
       "      <td>1</td>\n",
       "      <td>3</td>\n",
       "      <td>12:00</td>\n",
       "      <td>-</td>\n",
       "      <td>4</td>\n",
       "      <td>12:00</td>\n",
       "      <td>-</td>\n",
       "      <td>4</td>\n",
       "      <td>16:00</td>\n",
       "      <td>+</td>\n",
       "    </tr>\n",
       "  </tbody>\n",
       "</table>\n",
       "</div>"
      ],
      "text/plain": [
       "   chicken_id type sex  pen  house  sample1_day sample1_hour sample1_result  \\\n",
       "0       12345    I   F   10      1            3        12:00              -   \n",
       "\n",
       "   sample2_day sample2_hour sample2_result  sample3_day sample3_hour  \\\n",
       "0            4        12:00              -            4        16:00   \n",
       "\n",
       "  sample3_result  \n",
       "0              +  "
      ]
     },
     "execution_count": 7,
     "metadata": {},
     "output_type": "execute_result"
    }
   ],
   "source": [
    "dataset = pd.read_csv(trans_data)\n",
    "\n",
    "dataset"
   ]
  },
  {
   "cell_type": "markdown",
   "id": "66ef5f3b",
   "metadata": {},
   "source": [
    "## Tidy dataset"
   ]
  },
  {
   "cell_type": "markdown",
   "id": "a5b70f1a",
   "metadata": {},
   "source": [
    "### The script takes preprocessed data and mapping file to create tidy version (one date per row)"
   ]
  },
  {
   "cell_type": "markdown",
   "id": "566e7d13",
   "metadata": {},
   "source": [
    "### Config example"
   ]
  },
  {
   "cell_type": "code",
   "execution_count": 8,
   "id": "758271d1",
   "metadata": {
    "scrolled": true
   },
   "outputs": [],
   "source": [
    "mappings = Mappings(config1)"
   ]
  },
  {
   "cell_type": "code",
   "execution_count": 9,
   "id": "c62f97cd",
   "metadata": {},
   "outputs": [],
   "source": [
    "#dataset = pd.read_excel(trans_data).fillna(method='ffill',axis=0).fillna('')\n",
    "dataset = Dataset(str(trans_data), mappings)"
   ]
  },
  {
   "cell_type": "code",
   "execution_count": 10,
   "id": "9a651c65",
   "metadata": {},
   "outputs": [
    {
     "data": {
      "text/html": [
       "<div>\n",
       "<style scoped>\n",
       "    .dataframe tbody tr th:only-of-type {\n",
       "        vertical-align: middle;\n",
       "    }\n",
       "\n",
       "    .dataframe tbody tr th {\n",
       "        vertical-align: top;\n",
       "    }\n",
       "\n",
       "    .dataframe thead th {\n",
       "        text-align: right;\n",
       "    }\n",
       "</style>\n",
       "<table border=\"1\" class=\"dataframe\">\n",
       "  <thead>\n",
       "    <tr style=\"text-align: right;\">\n",
       "      <th></th>\n",
       "      <th>chicken_id</th>\n",
       "      <th>house</th>\n",
       "      <th>pen</th>\n",
       "      <th>sex</th>\n",
       "      <th>type</th>\n",
       "      <th>experimentDay</th>\n",
       "      <th>experimentHour</th>\n",
       "      <th>sample.*_result</th>\n",
       "    </tr>\n",
       "  </thead>\n",
       "  <tbody>\n",
       "    <tr>\n",
       "      <th>0</th>\n",
       "      <td>12345</td>\n",
       "      <td>1</td>\n",
       "      <td>10</td>\n",
       "      <td>F</td>\n",
       "      <td>I</td>\n",
       "      <td>3</td>\n",
       "      <td>12:00</td>\n",
       "      <td>-</td>\n",
       "    </tr>\n",
       "    <tr>\n",
       "      <th>1</th>\n",
       "      <td>12345</td>\n",
       "      <td>1</td>\n",
       "      <td>10</td>\n",
       "      <td>F</td>\n",
       "      <td>I</td>\n",
       "      <td>4</td>\n",
       "      <td>12:00</td>\n",
       "      <td>-</td>\n",
       "    </tr>\n",
       "    <tr>\n",
       "      <th>2</th>\n",
       "      <td>12345</td>\n",
       "      <td>1</td>\n",
       "      <td>10</td>\n",
       "      <td>F</td>\n",
       "      <td>I</td>\n",
       "      <td>4</td>\n",
       "      <td>16:00</td>\n",
       "      <td>+</td>\n",
       "    </tr>\n",
       "  </tbody>\n",
       "</table>\n",
       "</div>"
      ],
      "text/plain": [
       "   chicken_id  house  pen sex type  experimentDay experimentHour  \\\n",
       "0       12345      1   10   F    I              3          12:00   \n",
       "1       12345      1   10   F    I              4          12:00   \n",
       "2       12345      1   10   F    I              4          16:00   \n",
       "\n",
       "  sample.*_result  \n",
       "0               -  \n",
       "1               -  \n",
       "2               +  "
      ]
     },
     "execution_count": 10,
     "metadata": {},
     "output_type": "execute_result"
    }
   ],
   "source": [
    "dataset.tidy_dataset"
   ]
  },
  {
   "cell_type": "code",
   "execution_count": 11,
   "id": "29599562",
   "metadata": {},
   "outputs": [
    {
     "ename": "AttributeError",
     "evalue": "'list' object has no attribute 'values'",
     "output_type": "error",
     "traceback": [
      "\u001b[0;31m---------------------------------------------------------------------------\u001b[0m",
      "\u001b[0;31mAttributeError\u001b[0m                            Traceback (most recent call last)",
      "\u001b[0;32m/var/folders/gx/3fgv9qld73xdh9nn20d1qmsh0000gp/T/ipykernel_43818/2073694165.py\u001b[0m in \u001b[0;36m<module>\u001b[0;34m\u001b[0m\n\u001b[0;32m----> 1\u001b[0;31m \u001b[0mcolumns\u001b[0m \u001b[0;34m=\u001b[0m \u001b[0mdataset\u001b[0m\u001b[0;34m.\u001b[0m\u001b[0mcolumns\u001b[0m\u001b[0;34m.\u001b[0m\u001b[0mvalues\u001b[0m\u001b[0;34m.\u001b[0m\u001b[0mtolist\u001b[0m\u001b[0;34m(\u001b[0m\u001b[0;34m)\u001b[0m\u001b[0;34m\u001b[0m\u001b[0;34m\u001b[0m\u001b[0m\n\u001b[0m",
      "\u001b[0;31mAttributeError\u001b[0m: 'list' object has no attribute 'values'"
     ]
    }
   ],
   "source": [
    "columns = dataset.columns.values.tolist()"
   ]
  },
  {
   "cell_type": "markdown",
   "id": "6c36d64d",
   "metadata": {},
   "source": [
    "## Ontology population"
   ]
  },
  {
   "cell_type": "code",
   "execution_count": 34,
   "id": "3f59bec7",
   "metadata": {},
   "outputs": [],
   "source": [
    "ontology = Ontology(ont_file)"
   ]
  },
  {
   "cell_type": "markdown",
   "id": "6f7cc088",
   "metadata": {},
   "source": [
    "**Create instances and populate ontology**\n",
    "for each row of a dataset we create triples based on the mapping file"
   ]
  },
  {
   "cell_type": "code",
   "execution_count": 36,
   "id": "21615f96",
   "metadata": {},
   "outputs": [],
   "source": [
    "for _, row in dataset.tidy_dataset.iterrows():\n",
    "    # check for the required field\n",
    "    # if it doesn't exit then run it for each row\n",
    "    if mappings.required_field is None or row[mappings.required_field]:\n",
    "        ontology.populate_ontology(mappings, row)"
   ]
  },
  {
   "cell_type": "markdown",
   "id": "da40dcd1",
   "metadata": {},
   "source": [
    "### Quering the populated ontology"
   ]
  },
  {
   "cell_type": "code",
   "execution_count": 50,
   "id": "a81cdf76",
   "metadata": {},
   "outputs": [],
   "source": [
    "query1 = \"\"\"\n",
    "Prefix : <http://www.purl.org/infection_trans#>\n",
    "SELECT ?ex_day ?ex_hour ?host_id ?inoculationStatus ?sample_type  ?sample_result\n",
    "Where{\n",
    "?experiment a :Experiment;\n",
    "                          :experimentDay ?ex_day;\n",
    "                          :hasMeasurement ?measurement.\n",
    "              ?measurement a :Measurement;\n",
    "                           :hasHost ?host.\n",
    "                 ?measurement  :hasSample ?sample.\n",
    "                optional {?measurement :experimentHour ?ex_hour.}\n",
    "  \n",
    "              ?host :id ?host_id;\n",
    "                    :locatedIn ?env.\n",
    "      optional{?host :treatment ?treatment.}\n",
    "      optional{?host   :inoculationStatus ?inoculationStatus.}\n",
    "      optional{?host   :type ?type.}\n",
    "\t\t\toptional{   ?sample :hasType ?sample_type.}\n",
    "\t\t  optional {?sample :result ?sample_result.}\n",
    "      \n",
    "\n",
    "}\"\"\"\n",
    "\n",
    "qres1 = ontology.graph.query(query1)"
   ]
  },
  {
   "cell_type": "markdown",
   "id": "1ca1ed26",
   "metadata": {},
   "source": [
    "## Query result"
   ]
  },
  {
   "cell_type": "code",
   "execution_count": 51,
   "id": "8ba97f2c",
   "metadata": {},
   "outputs": [
    {
     "data": {
      "text/html": [
       "<div>\n",
       "<style scoped>\n",
       "    .dataframe tbody tr th:only-of-type {\n",
       "        vertical-align: middle;\n",
       "    }\n",
       "\n",
       "    .dataframe tbody tr th {\n",
       "        vertical-align: top;\n",
       "    }\n",
       "\n",
       "    .dataframe thead th {\n",
       "        text-align: right;\n",
       "    }\n",
       "</style>\n",
       "<table border=\"1\" class=\"dataframe\">\n",
       "  <thead>\n",
       "    <tr style=\"text-align: right;\">\n",
       "      <th></th>\n",
       "      <th>ex_day</th>\n",
       "      <th>ex_hour</th>\n",
       "      <th>host_id</th>\n",
       "      <th>inoculationStatus</th>\n",
       "      <th>sample_type</th>\n",
       "      <th>sample_result</th>\n",
       "    </tr>\n",
       "  </thead>\n",
       "  <tbody>\n",
       "    <tr>\n",
       "      <th>0</th>\n",
       "      <td>3</td>\n",
       "      <td>12:00</td>\n",
       "      <td>12345</td>\n",
       "      <td>None</td>\n",
       "      <td>http://www.purl.org/infection_trans#Swab</td>\n",
       "      <td>-</td>\n",
       "    </tr>\n",
       "    <tr>\n",
       "      <th>1</th>\n",
       "      <td>4</td>\n",
       "      <td>12:00</td>\n",
       "      <td>12345</td>\n",
       "      <td>None</td>\n",
       "      <td>http://www.purl.org/infection_trans#Swab</td>\n",
       "      <td>-</td>\n",
       "    </tr>\n",
       "    <tr>\n",
       "      <th>2</th>\n",
       "      <td>4</td>\n",
       "      <td>16:00</td>\n",
       "      <td>12345</td>\n",
       "      <td>None</td>\n",
       "      <td>http://www.purl.org/infection_trans#Swab</td>\n",
       "      <td>+</td>\n",
       "    </tr>\n",
       "  </tbody>\n",
       "</table>\n",
       "</div>"
      ],
      "text/plain": [
       "  ex_day ex_hour host_id inoculationStatus  \\\n",
       "0      3   12:00   12345              None   \n",
       "1      4   12:00   12345              None   \n",
       "2      4   16:00   12345              None   \n",
       "\n",
       "                                sample_type sample_result  \n",
       "0  http://www.purl.org/infection_trans#Swab             -  \n",
       "1  http://www.purl.org/infection_trans#Swab             -  \n",
       "2  http://www.purl.org/infection_trans#Swab             +  "
      ]
     },
     "execution_count": 51,
     "metadata": {},
     "output_type": "execute_result"
    }
   ],
   "source": [
    "\n",
    "\n",
    "result = pd.DataFrame(\n",
    "        data=([None if x is None else x.toPython() for x in row] for row in qres1),\n",
    "        columns=[str(x) for x in qres1.vars],\n",
    "    )\n",
    "\n",
    "result"
   ]
  },
  {
   "cell_type": "markdown",
   "id": "015321c6",
   "metadata": {},
   "source": [
    "# Example 2"
   ]
  },
  {
   "cell_type": "markdown",
   "id": "e647856c",
   "metadata": {},
   "source": [
    "###  Dataset with multiple measurements per row "
   ]
  },
  {
   "cell_type": "code",
   "execution_count": 25,
   "id": "68e35311",
   "metadata": {},
   "outputs": [],
   "source": [
    "mappings2 = Mappings(config2)"
   ]
  },
  {
   "cell_type": "code",
   "execution_count": 26,
   "id": "5c250ded",
   "metadata": {},
   "outputs": [
    {
     "data": {
      "text/html": [
       "<div>\n",
       "<style scoped>\n",
       "    .dataframe tbody tr th:only-of-type {\n",
       "        vertical-align: middle;\n",
       "    }\n",
       "\n",
       "    .dataframe tbody tr th {\n",
       "        vertical-align: top;\n",
       "    }\n",
       "\n",
       "    .dataframe thead th {\n",
       "        text-align: right;\n",
       "    }\n",
       "</style>\n",
       "<table border=\"1\" class=\"dataframe\">\n",
       "  <thead>\n",
       "    <tr style=\"text-align: right;\">\n",
       "      <th></th>\n",
       "      <th>house</th>\n",
       "      <th>pen</th>\n",
       "      <th>house_pen</th>\n",
       "      <th>treatment</th>\n",
       "      <th>animalnr_col</th>\n",
       "      <th>I,S1, S2</th>\n",
       "      <th>weight_d0</th>\n",
       "      <th>weight_d21</th>\n",
       "      <th>BS0</th>\n",
       "      <th>BS0_date</th>\n",
       "      <th>...</th>\n",
       "      <th>swab1</th>\n",
       "      <th>swab1_date</th>\n",
       "      <th>swab2</th>\n",
       "      <th>swab2_date</th>\n",
       "      <th>swab2_value</th>\n",
       "      <th>swab3</th>\n",
       "      <th>swab3_date</th>\n",
       "      <th>swab3_value</th>\n",
       "      <th>value_weight_d21</th>\n",
       "      <th>value_weight_d0</th>\n",
       "    </tr>\n",
       "  </thead>\n",
       "  <tbody>\n",
       "    <tr>\n",
       "      <th>0</th>\n",
       "      <td>1</td>\n",
       "      <td>S1</td>\n",
       "      <td>H1_S1</td>\n",
       "      <td>control</td>\n",
       "      <td>3_Ge</td>\n",
       "      <td>S2</td>\n",
       "      <td>35,72</td>\n",
       "      <td>732</td>\n",
       "      <td>-*</td>\n",
       "      <td>-1</td>\n",
       "      <td>...</td>\n",
       "      <td>-</td>\n",
       "      <td>5</td>\n",
       "      <td>-*</td>\n",
       "      <td>6</td>\n",
       "      <td></td>\n",
       "      <td>-*</td>\n",
       "      <td>7</td>\n",
       "      <td></td>\n",
       "      <td>21</td>\n",
       "      <td>0</td>\n",
       "    </tr>\n",
       "    <tr>\n",
       "      <th>1</th>\n",
       "      <td>1</td>\n",
       "      <td>S1</td>\n",
       "      <td>H1_S1</td>\n",
       "      <td>control</td>\n",
       "      <td>10_Ge</td>\n",
       "      <td>S2</td>\n",
       "      <td>43,51</td>\n",
       "      <td>934</td>\n",
       "      <td>-*</td>\n",
       "      <td>-1</td>\n",
       "      <td>...</td>\n",
       "      <td>-</td>\n",
       "      <td>5</td>\n",
       "      <td>-</td>\n",
       "      <td>6</td>\n",
       "      <td></td>\n",
       "      <td>-</td>\n",
       "      <td>7</td>\n",
       "      <td></td>\n",
       "      <td>21</td>\n",
       "      <td>0</td>\n",
       "    </tr>\n",
       "  </tbody>\n",
       "</table>\n",
       "<p>2 rows × 25 columns</p>\n",
       "</div>"
      ],
      "text/plain": [
       "   house pen house_pen treatment animalnr_col I,S1, S2 weight_d0  weight_d21  \\\n",
       "0      1  S1     H1_S1   control         3_Ge       S2     35,72         732   \n",
       "1      1  S1     H1_S1   control        10_Ge       S2     43,51         934   \n",
       "\n",
       "  BS0  BS0_date  ... swab1 swab1_date  swab2 swab2_date swab2_value swab3  \\\n",
       "0  -*        -1  ...     -          5     -*          6                -*   \n",
       "1  -*        -1  ...     -          5      -          6                 -   \n",
       "\n",
       "   swab3_date swab3_value  value_weight_d21 value_weight_d0  \n",
       "0           7                            21               0  \n",
       "1           7                            21               0  \n",
       "\n",
       "[2 rows x 25 columns]"
      ]
     },
     "execution_count": 26,
     "metadata": {},
     "output_type": "execute_result"
    }
   ],
   "source": [
    "dataset2 = Dataset(str(trans_data2),mappings2)\n",
    "dataset2.dataset"
   ]
  },
  {
   "cell_type": "code",
   "execution_count": 27,
   "id": "96c2916c",
   "metadata": {},
   "outputs": [
    {
     "data": {
      "text/html": [
       "<div>\n",
       "<style scoped>\n",
       "    .dataframe tbody tr th:only-of-type {\n",
       "        vertical-align: middle;\n",
       "    }\n",
       "\n",
       "    .dataframe tbody tr th {\n",
       "        vertical-align: top;\n",
       "    }\n",
       "\n",
       "    .dataframe thead th {\n",
       "        text-align: right;\n",
       "    }\n",
       "</style>\n",
       "<table border=\"1\" class=\"dataframe\">\n",
       "  <thead>\n",
       "    <tr style=\"text-align: right;\">\n",
       "      <th></th>\n",
       "      <th>I,S1, S2</th>\n",
       "      <th>animalnr_col</th>\n",
       "      <th>house</th>\n",
       "      <th>house_pen</th>\n",
       "      <th>pen</th>\n",
       "      <th>treatment</th>\n",
       "      <th>experimentDay</th>\n",
       "      <th>weight_d.*</th>\n",
       "      <th>BS.*</th>\n",
       "      <th>BS.*_value</th>\n",
       "      <th>swab.*</th>\n",
       "      <th>swab.*_value</th>\n",
       "    </tr>\n",
       "  </thead>\n",
       "  <tbody>\n",
       "    <tr>\n",
       "      <th>0</th>\n",
       "      <td>S2</td>\n",
       "      <td>3_Ge</td>\n",
       "      <td>1</td>\n",
       "      <td>H1_S1</td>\n",
       "      <td>S1</td>\n",
       "      <td>control</td>\n",
       "      <td>0</td>\n",
       "      <td>35,72</td>\n",
       "      <td></td>\n",
       "      <td></td>\n",
       "      <td></td>\n",
       "      <td></td>\n",
       "    </tr>\n",
       "    <tr>\n",
       "      <th>1</th>\n",
       "      <td>S2</td>\n",
       "      <td>10_Ge</td>\n",
       "      <td>1</td>\n",
       "      <td>H1_S1</td>\n",
       "      <td>S1</td>\n",
       "      <td>control</td>\n",
       "      <td>0</td>\n",
       "      <td>43,51</td>\n",
       "      <td></td>\n",
       "      <td></td>\n",
       "      <td></td>\n",
       "      <td></td>\n",
       "    </tr>\n",
       "    <tr>\n",
       "      <th>2</th>\n",
       "      <td>S2</td>\n",
       "      <td>3_Ge</td>\n",
       "      <td>1</td>\n",
       "      <td>H1_S1</td>\n",
       "      <td>S1</td>\n",
       "      <td>control</td>\n",
       "      <td>21</td>\n",
       "      <td>732</td>\n",
       "      <td></td>\n",
       "      <td></td>\n",
       "      <td></td>\n",
       "      <td></td>\n",
       "    </tr>\n",
       "    <tr>\n",
       "      <th>3</th>\n",
       "      <td>S2</td>\n",
       "      <td>10_Ge</td>\n",
       "      <td>1</td>\n",
       "      <td>H1_S1</td>\n",
       "      <td>S1</td>\n",
       "      <td>control</td>\n",
       "      <td>21</td>\n",
       "      <td>934</td>\n",
       "      <td></td>\n",
       "      <td></td>\n",
       "      <td></td>\n",
       "      <td></td>\n",
       "    </tr>\n",
       "    <tr>\n",
       "      <th>4</th>\n",
       "      <td>S2</td>\n",
       "      <td>3_Ge</td>\n",
       "      <td>1</td>\n",
       "      <td>H1_S1</td>\n",
       "      <td>S1</td>\n",
       "      <td>control</td>\n",
       "      <td>-1</td>\n",
       "      <td></td>\n",
       "      <td>-*</td>\n",
       "      <td></td>\n",
       "      <td></td>\n",
       "      <td></td>\n",
       "    </tr>\n",
       "    <tr>\n",
       "      <th>5</th>\n",
       "      <td>S2</td>\n",
       "      <td>10_Ge</td>\n",
       "      <td>1</td>\n",
       "      <td>H1_S1</td>\n",
       "      <td>S1</td>\n",
       "      <td>control</td>\n",
       "      <td>-1</td>\n",
       "      <td></td>\n",
       "      <td>-*</td>\n",
       "      <td></td>\n",
       "      <td></td>\n",
       "      <td></td>\n",
       "    </tr>\n",
       "    <tr>\n",
       "      <th>6</th>\n",
       "      <td>S2</td>\n",
       "      <td>3_Ge</td>\n",
       "      <td>1</td>\n",
       "      <td>H1_S1</td>\n",
       "      <td>S1</td>\n",
       "      <td>control</td>\n",
       "      <td>2</td>\n",
       "      <td></td>\n",
       "      <td>-*</td>\n",
       "      <td></td>\n",
       "      <td></td>\n",
       "      <td></td>\n",
       "    </tr>\n",
       "    <tr>\n",
       "      <th>7</th>\n",
       "      <td>S2</td>\n",
       "      <td>10_Ge</td>\n",
       "      <td>1</td>\n",
       "      <td>H1_S1</td>\n",
       "      <td>S1</td>\n",
       "      <td>control</td>\n",
       "      <td>2</td>\n",
       "      <td></td>\n",
       "      <td>-*</td>\n",
       "      <td></td>\n",
       "      <td></td>\n",
       "      <td></td>\n",
       "    </tr>\n",
       "    <tr>\n",
       "      <th>8</th>\n",
       "      <td>S2</td>\n",
       "      <td>3_Ge</td>\n",
       "      <td>1</td>\n",
       "      <td>H1_S1</td>\n",
       "      <td>S1</td>\n",
       "      <td>control</td>\n",
       "      <td>5</td>\n",
       "      <td></td>\n",
       "      <td></td>\n",
       "      <td></td>\n",
       "      <td>-</td>\n",
       "      <td></td>\n",
       "    </tr>\n",
       "    <tr>\n",
       "      <th>9</th>\n",
       "      <td>S2</td>\n",
       "      <td>10_Ge</td>\n",
       "      <td>1</td>\n",
       "      <td>H1_S1</td>\n",
       "      <td>S1</td>\n",
       "      <td>control</td>\n",
       "      <td>5</td>\n",
       "      <td></td>\n",
       "      <td></td>\n",
       "      <td></td>\n",
       "      <td>-</td>\n",
       "      <td></td>\n",
       "    </tr>\n",
       "    <tr>\n",
       "      <th>10</th>\n",
       "      <td>S2</td>\n",
       "      <td>3_Ge</td>\n",
       "      <td>1</td>\n",
       "      <td>H1_S1</td>\n",
       "      <td>S1</td>\n",
       "      <td>control</td>\n",
       "      <td>6</td>\n",
       "      <td></td>\n",
       "      <td></td>\n",
       "      <td></td>\n",
       "      <td>-*</td>\n",
       "      <td></td>\n",
       "    </tr>\n",
       "    <tr>\n",
       "      <th>11</th>\n",
       "      <td>S2</td>\n",
       "      <td>10_Ge</td>\n",
       "      <td>1</td>\n",
       "      <td>H1_S1</td>\n",
       "      <td>S1</td>\n",
       "      <td>control</td>\n",
       "      <td>6</td>\n",
       "      <td></td>\n",
       "      <td></td>\n",
       "      <td></td>\n",
       "      <td>-</td>\n",
       "      <td></td>\n",
       "    </tr>\n",
       "    <tr>\n",
       "      <th>12</th>\n",
       "      <td>S2</td>\n",
       "      <td>3_Ge</td>\n",
       "      <td>1</td>\n",
       "      <td>H1_S1</td>\n",
       "      <td>S1</td>\n",
       "      <td>control</td>\n",
       "      <td>7</td>\n",
       "      <td></td>\n",
       "      <td></td>\n",
       "      <td></td>\n",
       "      <td>-*</td>\n",
       "      <td></td>\n",
       "    </tr>\n",
       "    <tr>\n",
       "      <th>13</th>\n",
       "      <td>S2</td>\n",
       "      <td>10_Ge</td>\n",
       "      <td>1</td>\n",
       "      <td>H1_S1</td>\n",
       "      <td>S1</td>\n",
       "      <td>control</td>\n",
       "      <td>7</td>\n",
       "      <td></td>\n",
       "      <td></td>\n",
       "      <td></td>\n",
       "      <td>-</td>\n",
       "      <td></td>\n",
       "    </tr>\n",
       "  </tbody>\n",
       "</table>\n",
       "</div>"
      ],
      "text/plain": [
       "   I,S1, S2 animalnr_col  house house_pen pen treatment  experimentDay  \\\n",
       "0        S2         3_Ge      1     H1_S1  S1   control              0   \n",
       "1        S2        10_Ge      1     H1_S1  S1   control              0   \n",
       "2        S2         3_Ge      1     H1_S1  S1   control             21   \n",
       "3        S2        10_Ge      1     H1_S1  S1   control             21   \n",
       "4        S2         3_Ge      1     H1_S1  S1   control             -1   \n",
       "5        S2        10_Ge      1     H1_S1  S1   control             -1   \n",
       "6        S2         3_Ge      1     H1_S1  S1   control              2   \n",
       "7        S2        10_Ge      1     H1_S1  S1   control              2   \n",
       "8        S2         3_Ge      1     H1_S1  S1   control              5   \n",
       "9        S2        10_Ge      1     H1_S1  S1   control              5   \n",
       "10       S2         3_Ge      1     H1_S1  S1   control              6   \n",
       "11       S2        10_Ge      1     H1_S1  S1   control              6   \n",
       "12       S2         3_Ge      1     H1_S1  S1   control              7   \n",
       "13       S2        10_Ge      1     H1_S1  S1   control              7   \n",
       "\n",
       "   weight_d.* BS.* BS.*_value swab.* swab.*_value  \n",
       "0       35,72                                      \n",
       "1       43,51                                      \n",
       "2         732                                      \n",
       "3         934                                      \n",
       "4               -*                                 \n",
       "5               -*                                 \n",
       "6               -*                                 \n",
       "7               -*                                 \n",
       "8                                  -               \n",
       "9                                  -               \n",
       "10                                -*               \n",
       "11                                 -               \n",
       "12                                -*               \n",
       "13                                 -               "
      ]
     },
     "execution_count": 27,
     "metadata": {},
     "output_type": "execute_result"
    }
   ],
   "source": [
    "dataset2.tidy_dataset"
   ]
  },
  {
   "cell_type": "code",
   "execution_count": null,
   "id": "3597e2ed",
   "metadata": {},
   "outputs": [],
   "source": []
  }
 ],
 "metadata": {
  "kernelspec": {
   "display_name": "Python 3 (ipykernel)",
   "language": "python",
   "name": "python3"
  },
  "language_info": {
   "codemirror_mode": {
    "name": "ipython",
    "version": 3
   },
   "file_extension": ".py",
   "mimetype": "text/x-python",
   "name": "python",
   "nbconvert_exporter": "python",
   "pygments_lexer": "ipython3",
   "version": "3.9.13"
  }
 },
 "nbformat": 4,
 "nbformat_minor": 5
}
