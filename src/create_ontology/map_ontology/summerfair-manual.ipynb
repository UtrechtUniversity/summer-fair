{
 "cells": [
  {
   "cell_type": "markdown",
   "id": "fc28d8f5",
   "metadata": {},
   "source": [
    "# Integrate existing data sets on transmission experiments"
   ]
  },
  {
   "cell_type": "code",
   "execution_count": 1,
   "id": "ab7c94c7",
   "metadata": {},
   "outputs": [],
   "source": [
    "from pathlib import Path\n",
    "import pandas as pd\n",
    "from mappings import Mappings\n",
    "from ontology import Ontology\n",
    "from dataset import Dataset"
   ]
  },
  {
   "cell_type": "code",
   "execution_count": 2,
   "id": "47bc5ccb",
   "metadata": {},
   "outputs": [],
   "source": [
    "import pyvis.network"
   ]
  },
  {
   "cell_type": "markdown",
   "id": "f5e7e4c2",
   "metadata": {},
   "source": [
    "## Provide files ##"
   ]
  },
  {
   "cell_type": "markdown",
   "id": "2d2b1e49",
   "metadata": {},
   "source": [
    "**Dataset**"
   ]
  },
  {
   "cell_type": "code",
   "execution_count": 3,
   "id": "298c1cdb",
   "metadata": {},
   "outputs": [],
   "source": [
    "data_dir = Path('../../../data/examples')"
   ]
  },
  {
   "cell_type": "code",
   "execution_count": 4,
   "id": "9fcbb657",
   "metadata": {},
   "outputs": [],
   "source": [
    "#trans_data = Path.cwd()/'data_maldi_UU_2_updated.xlsx'\n",
    "trans_data_original = data_dir/'sample1_original.csv'\n",
    "trans_data = data_dir/'sample1_modified.csv'\n",
    "trans_data2 = data_dir/ 'sample2.csv'"
   ]
  },
  {
   "cell_type": "markdown",
   "id": "3230365b",
   "metadata": {},
   "source": [
    "**Mapping file**"
   ]
  },
  {
   "cell_type": "code",
   "execution_count": 5,
   "id": "80de6eb3",
   "metadata": {},
   "outputs": [],
   "source": [
    "config1 = data_dir/'sample1_mapping.yml'\n",
    "config2 = data_dir/'sample2_mapping.yml'\n"
   ]
  },
  {
   "cell_type": "markdown",
   "id": "d45d7951",
   "metadata": {},
   "source": [
    "**Ontology schema**"
   ]
  },
  {
   "cell_type": "code",
   "execution_count": 6,
   "id": "0e976f40",
   "metadata": {},
   "outputs": [],
   "source": [
    "ont_file = Path.cwd()/'infection_trans.owl'"
   ]
  },
  {
   "cell_type": "markdown",
   "id": "4a3982a1",
   "metadata": {},
   "source": [
    "# Example 1\n"
   ]
  },
  {
   "cell_type": "markdown",
   "id": "58df3f18",
   "metadata": {},
   "source": [
    "### Original dataset"
   ]
  },
  {
   "cell_type": "code",
   "execution_count": 7,
   "id": "67448db8",
   "metadata": {
    "scrolled": true
   },
   "outputs": [
    {
     "data": {
      "text/html": [
       "<div>\n",
       "<style scoped>\n",
       "    .dataframe tbody tr th:only-of-type {\n",
       "        vertical-align: middle;\n",
       "    }\n",
       "\n",
       "    .dataframe tbody tr th {\n",
       "        vertical-align: top;\n",
       "    }\n",
       "\n",
       "    .dataframe thead th {\n",
       "        text-align: right;\n",
       "    }\n",
       "</style>\n",
       "<table border=\"1\" class=\"dataframe\">\n",
       "  <thead>\n",
       "    <tr style=\"text-align: right;\">\n",
       "      <th></th>\n",
       "      <th>chicken_id</th>\n",
       "      <th>type</th>\n",
       "      <th>sex</th>\n",
       "      <th>pen</th>\n",
       "      <th>house</th>\n",
       "      <th>D3</th>\n",
       "      <th>D4 12:00</th>\n",
       "      <th>D4 16:00</th>\n",
       "    </tr>\n",
       "  </thead>\n",
       "  <tbody>\n",
       "    <tr>\n",
       "      <th>0</th>\n",
       "      <td>12345</td>\n",
       "      <td>I</td>\n",
       "      <td>F</td>\n",
       "      <td>10</td>\n",
       "      <td>1</td>\n",
       "      <td>-</td>\n",
       "      <td>-</td>\n",
       "      <td>+</td>\n",
       "    </tr>\n",
       "  </tbody>\n",
       "</table>\n",
       "</div>"
      ],
      "text/plain": [
       "   chicken_id type sex  pen  house D3 D4 12:00 D4 16:00\n",
       "0       12345    I   F   10      1  -        -        +"
      ]
     },
     "execution_count": 7,
     "metadata": {},
     "output_type": "execute_result"
    }
   ],
   "source": [
    "dataset_original = pd.read_csv(trans_data_original)\n",
    "\n",
    "dataset_original"
   ]
  },
  {
   "cell_type": "markdown",
   "id": "3a7c85d0",
   "metadata": {},
   "source": [
    "* The samples are taken on day 3 (no hour is specified), and 2 samples at day 4 (12:00 and 16:00). \n",
    "\n",
    "* We need to update the data in order to be able to create triples:\n",
    "\n",
    "    1. The day of the sample in separate column -> create new column for each sample with day value\n",
    "\n",
    "    2. If one of the samemples has specified an hour, others should specify as well -> we need to specify hour for sample taken on day3\n",
    "    3. We should understand that sample result of one sample is related to the sample day and hour based on column names -> use sample's ordered number for column names. For example, sample1_date, sample2_date ..."
   ]
  },
  {
   "cell_type": "markdown",
   "id": "0532fa67",
   "metadata": {},
   "source": [
    "## Corresponding preprocessed dataset"
   ]
  },
  {
   "cell_type": "markdown",
   "id": "16ce7b31",
   "metadata": {},
   "source": [
    "#### the step of renaming columns  and creating new ones should be manully preformed before creating the linked triples"
   ]
  },
  {
   "cell_type": "code",
   "execution_count": 8,
   "id": "1e3b9f84",
   "metadata": {},
   "outputs": [
    {
     "data": {
      "text/html": [
       "<div>\n",
       "<style scoped>\n",
       "    .dataframe tbody tr th:only-of-type {\n",
       "        vertical-align: middle;\n",
       "    }\n",
       "\n",
       "    .dataframe tbody tr th {\n",
       "        vertical-align: top;\n",
       "    }\n",
       "\n",
       "    .dataframe thead th {\n",
       "        text-align: right;\n",
       "    }\n",
       "</style>\n",
       "<table border=\"1\" class=\"dataframe\">\n",
       "  <thead>\n",
       "    <tr style=\"text-align: right;\">\n",
       "      <th></th>\n",
       "      <th>chicken_id</th>\n",
       "      <th>type</th>\n",
       "      <th>sex</th>\n",
       "      <th>pen</th>\n",
       "      <th>house</th>\n",
       "      <th>sample1_day</th>\n",
       "      <th>sample1_hour</th>\n",
       "      <th>sample1_result</th>\n",
       "      <th>sample2_day</th>\n",
       "      <th>sample2_hour</th>\n",
       "      <th>sample2_result</th>\n",
       "      <th>sample3_day</th>\n",
       "      <th>sample3_hour</th>\n",
       "      <th>sample3_result</th>\n",
       "    </tr>\n",
       "  </thead>\n",
       "  <tbody>\n",
       "    <tr>\n",
       "      <th>0</th>\n",
       "      <td>12345</td>\n",
       "      <td>I</td>\n",
       "      <td>F</td>\n",
       "      <td>10</td>\n",
       "      <td>1</td>\n",
       "      <td>3</td>\n",
       "      <td>12:00</td>\n",
       "      <td>-</td>\n",
       "      <td>4</td>\n",
       "      <td>12:00</td>\n",
       "      <td>-</td>\n",
       "      <td>4</td>\n",
       "      <td>16:00</td>\n",
       "      <td>+</td>\n",
       "    </tr>\n",
       "  </tbody>\n",
       "</table>\n",
       "</div>"
      ],
      "text/plain": [
       "   chicken_id type sex  pen  house  sample1_day sample1_hour sample1_result  \\\n",
       "0       12345    I   F   10      1            3        12:00              -   \n",
       "\n",
       "   sample2_day sample2_hour sample2_result  sample3_day sample3_hour  \\\n",
       "0            4        12:00              -            4        16:00   \n",
       "\n",
       "  sample3_result  \n",
       "0              +  "
      ]
     },
     "execution_count": 8,
     "metadata": {},
     "output_type": "execute_result"
    }
   ],
   "source": [
    "dataset = pd.read_csv(trans_data)\n",
    "\n",
    "dataset"
   ]
  },
  {
   "cell_type": "markdown",
   "id": "66ef5f3b",
   "metadata": {},
   "source": [
    "## Tidy dataset"
   ]
  },
  {
   "cell_type": "markdown",
   "id": "a5b70f1a",
   "metadata": {},
   "source": [
    "### The script takes preprocessed data and mapping file to create tidy version (one date per row)"
   ]
  },
  {
   "cell_type": "markdown",
   "id": "566e7d13",
   "metadata": {},
   "source": [
    "### Config example"
   ]
  },
  {
   "cell_type": "code",
   "execution_count": 9,
   "id": "758271d1",
   "metadata": {
    "scrolled": true
   },
   "outputs": [],
   "source": [
    "mappings = Mappings(config1)"
   ]
  },
  {
   "cell_type": "code",
   "execution_count": 10,
   "id": "c62f97cd",
   "metadata": {},
   "outputs": [],
   "source": [
    "#dataset = pd.read_excel(trans_dta).fillna(method='ffill',axis=0).fillna('')\n",
    "dataset = Dataset(str(trans_data), mappings)"
   ]
  },
  {
   "cell_type": "code",
   "execution_count": 11,
   "id": "9a651c65",
   "metadata": {},
   "outputs": [
    {
     "data": {
      "text/html": [
       "<div>\n",
       "<style scoped>\n",
       "    .dataframe tbody tr th:only-of-type {\n",
       "        vertical-align: middle;\n",
       "    }\n",
       "\n",
       "    .dataframe tbody tr th {\n",
       "        vertical-align: top;\n",
       "    }\n",
       "\n",
       "    .dataframe thead th {\n",
       "        text-align: right;\n",
       "    }\n",
       "</style>\n",
       "<table border=\"1\" class=\"dataframe\">\n",
       "  <thead>\n",
       "    <tr style=\"text-align: right;\">\n",
       "      <th></th>\n",
       "      <th>house</th>\n",
       "      <th>pen</th>\n",
       "      <th>sex</th>\n",
       "      <th>type</th>\n",
       "      <th>﻿chicken_id</th>\n",
       "      <th>experimentDay</th>\n",
       "      <th>experimentHour</th>\n",
       "      <th>sample.*_result</th>\n",
       "    </tr>\n",
       "  </thead>\n",
       "  <tbody>\n",
       "    <tr>\n",
       "      <th>0</th>\n",
       "      <td>1</td>\n",
       "      <td>10</td>\n",
       "      <td>F</td>\n",
       "      <td>I</td>\n",
       "      <td>12345</td>\n",
       "      <td>3</td>\n",
       "      <td>12:00</td>\n",
       "      <td>-</td>\n",
       "    </tr>\n",
       "    <tr>\n",
       "      <th>1</th>\n",
       "      <td>1</td>\n",
       "      <td>10</td>\n",
       "      <td>F</td>\n",
       "      <td>I</td>\n",
       "      <td>12345</td>\n",
       "      <td>4</td>\n",
       "      <td>12:00</td>\n",
       "      <td>-</td>\n",
       "    </tr>\n",
       "    <tr>\n",
       "      <th>2</th>\n",
       "      <td>1</td>\n",
       "      <td>10</td>\n",
       "      <td>F</td>\n",
       "      <td>I</td>\n",
       "      <td>12345</td>\n",
       "      <td>4</td>\n",
       "      <td>16:00</td>\n",
       "      <td>+</td>\n",
       "    </tr>\n",
       "  </tbody>\n",
       "</table>\n",
       "</div>"
      ],
      "text/plain": [
       "   house  pen sex type  ﻿chicken_id  experimentDay experimentHour  \\\n",
       "0      1   10   F    I        12345              3          12:00   \n",
       "1      1   10   F    I        12345              4          12:00   \n",
       "2      1   10   F    I        12345              4          16:00   \n",
       "\n",
       "  sample.*_result  \n",
       "0               -  \n",
       "1               -  \n",
       "2               +  "
      ]
     },
     "execution_count": 11,
     "metadata": {},
     "output_type": "execute_result"
    }
   ],
   "source": [
    "dataset.tidy_dataset"
   ]
  },
  {
   "cell_type": "markdown",
   "id": "6c36d64d",
   "metadata": {},
   "source": [
    "## Ontology population"
   ]
  },
  {
   "cell_type": "code",
   "execution_count": 12,
   "id": "3f59bec7",
   "metadata": {},
   "outputs": [],
   "source": [
    "ontology = Ontology(ont_file)"
   ]
  },
  {
   "cell_type": "markdown",
   "id": "6f7cc088",
   "metadata": {},
   "source": [
    "**Create instances and populate ontology**\n",
    "for each row of a dataset we create triples based on the mapping file"
   ]
  },
  {
   "cell_type": "code",
   "execution_count": 13,
   "id": "21615f96",
   "metadata": {},
   "outputs": [],
   "source": [
    "for _, row in dataset.tidy_dataset.iterrows():\n",
    "        ontology.populate_ontology(mappings, row)"
   ]
  },
  {
   "cell_type": "code",
   "execution_count": 14,
   "id": "d945cced",
   "metadata": {},
   "outputs": [
    {
     "data": {
      "text/plain": [
       "house                  1\n",
       "pen                   10\n",
       "sex                    F\n",
       "type                   I\n",
       "﻿chicken_id        12345\n",
       "experimentDay          4\n",
       "experimentHour     16:00\n",
       "sample.*_result        +\n",
       "Name: 2, dtype: object"
      ]
     },
     "execution_count": 14,
     "metadata": {},
     "output_type": "execute_result"
    }
   ],
   "source": [
    "row"
   ]
  },
  {
   "cell_type": "code",
   "execution_count": 15,
   "id": "f51bc56c",
   "metadata": {},
   "outputs": [
    {
     "data": {
      "text/plain": [
       "{'experimentID': 'ChickenData', 'experimentDay': 'experimentDay'}"
      ]
     },
     "execution_count": 15,
     "metadata": {},
     "output_type": "execute_result"
    }
   ],
   "source": [
    "mappings.ont_mappings['Experiment']"
   ]
  },
  {
   "cell_type": "code",
   "execution_count": 16,
   "id": "5a11b1ef",
   "metadata": {},
   "outputs": [],
   "source": [
    "pyvis_graph = pyvis.network.Network(notebook=True)"
   ]
  },
  {
   "cell_type": "code",
   "execution_count": 17,
   "id": "e12ea447",
   "metadata": {},
   "outputs": [
    {
     "data": {
      "text/html": [
       "\n",
       "        <iframe\n",
       "            width=\"500px\"\n",
       "            height=\"500px\"\n",
       "            src=\"example.html\"\n",
       "            frameborder=\"0\"\n",
       "            allowfullscreen\n",
       "            \n",
       "        ></iframe>\n",
       "        "
      ],
      "text/plain": [
       "<IPython.lib.display.IFrame at 0x11c438c70>"
      ]
     },
     "execution_count": 17,
     "metadata": {},
     "output_type": "execute_result"
    }
   ],
   "source": [
    "pyvis_graph.add_node(0, label=\"Experiment1\", title=\"This is FOO\", color=\"orange\", size=15, mass=7)\n",
    "pyvis_graph.add_node(1, label=\"Experiment\", title=\"That is BAR\", color=\"blue\", size=10)\n",
    "pyvis_graph.add_node(2, label=\"ChickenData\", title=\"Here is BAZ\", color=\"green\", size=10)\n",
    "pyvis_graph.add_node(3, label=\"4\", title=\"Here is BAZ\", color=\"green\", size=10)\n",
    "\n",
    "\n",
    "\n",
    "pyvis_graph.add_edge(0, 1, label=\"isA\", color=\"red\")\n",
    "pyvis_graph.add_edge(0, 2, label=\"experimentID\", color=\"red\")\n",
    "pyvis_graph.add_edge(0, 3, label=\"experimentDay\", color=\"red\")\n",
    "\n",
    "pyvis_graph.show('example.html')"
   ]
  },
  {
   "cell_type": "code",
   "execution_count": 18,
   "id": "befb09df",
   "metadata": {},
   "outputs": [
    {
     "data": {
      "text/plain": [
       "{'id': 'chicken_id',\n",
       " 'inoculationStatus': 'type',\n",
       " 'sex': 'sex',\n",
       " 'locatedIn': 'Environment'}"
      ]
     },
     "execution_count": 18,
     "metadata": {},
     "output_type": "execute_result"
    }
   ],
   "source": [
    "mappings.ont_mappings['Host']"
   ]
  },
  {
   "cell_type": "code",
   "execution_count": 19,
   "id": "1dd2325d",
   "metadata": {},
   "outputs": [
    {
     "data": {
      "text/plain": [
       "house                  1\n",
       "pen                   10\n",
       "sex                    F\n",
       "type                   I\n",
       "﻿chicken_id        12345\n",
       "experimentDay          4\n",
       "experimentHour     16:00\n",
       "sample.*_result        +\n",
       "Name: 2, dtype: object"
      ]
     },
     "execution_count": 19,
     "metadata": {},
     "output_type": "execute_result"
    }
   ],
   "source": [
    "row"
   ]
  },
  {
   "cell_type": "code",
   "execution_count": 20,
   "id": "98739004",
   "metadata": {},
   "outputs": [],
   "source": [
    "pyvis_graph_host = pyvis.network.Network(notebook=True)"
   ]
  },
  {
   "cell_type": "code",
   "execution_count": 21,
   "id": "9a8ab0a3",
   "metadata": {},
   "outputs": [
    {
     "data": {
      "text/html": [
       "\n",
       "        <iframe\n",
       "            width=\"500px\"\n",
       "            height=\"500px\"\n",
       "            src=\"example.html\"\n",
       "            frameborder=\"0\"\n",
       "            allowfullscreen\n",
       "            \n",
       "        ></iframe>\n",
       "        "
      ],
      "text/plain": [
       "<IPython.lib.display.IFrame at 0x11c556d00>"
      ]
     },
     "execution_count": 21,
     "metadata": {},
     "output_type": "execute_result"
    }
   ],
   "source": [
    "pyvis_graph_host.add_node(0, label=\"Host1234\", title=\"This is FOO\", color=\"orange\", size=15, mass=7)\n",
    "pyvis_graph_host.add_node(1, label=\"Host\", title=\"That is BAR\", color=\"blue\", size=10)\n",
    "pyvis_graph_host.add_node(2, label=\"12345\", title=\"Here is BAZ\", color=\"green\", size=10)\n",
    "pyvis_graph_host.add_node(3, label=\"F\", title=\"Here is BAZ\", color=\"green\", size=10)\n",
    "pyvis_graph_host.add_node(4, label=\"I\", title=\"Here is BAZ\", color=\"green\", size=10)\n",
    "pyvis_graph_host.add_node(5, label=\"Environment1\", title=\"Here is BAZ\", color=\"blue\", size=10)\n",
    "\n",
    "\n",
    "\n",
    "pyvis_graph_host.add_edge(0, 1, label=\"isA\", color=\"red\")\n",
    "pyvis_graph_host.add_edge(0, 2, label=\"id\", color=\"red\")\n",
    "pyvis_graph_host.add_edge(0, 3, label=\"sex\", color=\"red\")\n",
    "pyvis_graph_host.add_edge(0, 4, label=\"type\", color=\"red\")\n",
    "pyvis_graph_host.add_edge(0, 5, label=\"locatedIn\", color=\"blue\")\n",
    "\n",
    "pyvis_graph_host.show('example.html')"
   ]
  },
  {
   "cell_type": "markdown",
   "id": "da40dcd1",
   "metadata": {},
   "source": [
    "### Quering the populated ontology"
   ]
  },
  {
   "cell_type": "code",
   "execution_count": 22,
   "id": "a81cdf76",
   "metadata": {},
   "outputs": [],
   "source": [
    "query1 = \"\"\"\n",
    "Prefix : <http://www.purl.org/infection_trans#>\n",
    "SELECT ?ex_day ?ex_hour ?host_id ?inoculationStatus ?sample_type  ?sample_result\n",
    "Where{\n",
    "?experiment a :Experiment;\n",
    "                          :experimentDay ?ex_day;\n",
    "                          :hasMeasurement ?measurement.\n",
    "              ?measurement a :Measurement;\n",
    "                           :hasHost ?host.\n",
    "                 ?measurement  :hasSample ?sample.\n",
    "                optional {?measurement :experimentHour ?ex_hour.}\n",
    "  \n",
    "              ?host :id ?host_id;\n",
    "                    :locatedIn ?env.\n",
    "      optional{?host :treatment ?treatment.}\n",
    "      optional{?host   :inoculationStatus ?inoculationStatus.}\n",
    "      optional{?host   :type ?type.}\n",
    "\t\t\toptional{   ?sample :hasType ?sample_type.}\n",
    "\t\t  optional {?sample :result ?sample_result.}\n",
    "      \n",
    "\n",
    "}\"\"\"\n",
    "\n",
    "qres1 = ontology.graph.query(query1)"
   ]
  },
  {
   "cell_type": "markdown",
   "id": "1ca1ed26",
   "metadata": {},
   "source": [
    "## Query result"
   ]
  },
  {
   "cell_type": "code",
   "execution_count": 23,
   "id": "8ba97f2c",
   "metadata": {},
   "outputs": [
    {
     "data": {
      "text/html": [
       "<div>\n",
       "<style scoped>\n",
       "    .dataframe tbody tr th:only-of-type {\n",
       "        vertical-align: middle;\n",
       "    }\n",
       "\n",
       "    .dataframe tbody tr th {\n",
       "        vertical-align: top;\n",
       "    }\n",
       "\n",
       "    .dataframe thead th {\n",
       "        text-align: right;\n",
       "    }\n",
       "</style>\n",
       "<table border=\"1\" class=\"dataframe\">\n",
       "  <thead>\n",
       "    <tr style=\"text-align: right;\">\n",
       "      <th></th>\n",
       "      <th>ex_day</th>\n",
       "      <th>ex_hour</th>\n",
       "      <th>host_id</th>\n",
       "      <th>inoculationStatus</th>\n",
       "      <th>sample_type</th>\n",
       "      <th>sample_result</th>\n",
       "    </tr>\n",
       "  </thead>\n",
       "  <tbody>\n",
       "    <tr>\n",
       "      <th>0</th>\n",
       "      <td>3</td>\n",
       "      <td>12:00</td>\n",
       "      <td>chicken_id</td>\n",
       "      <td>I</td>\n",
       "      <td>http://www.purl.org/infection_trans#Swab</td>\n",
       "      <td>-</td>\n",
       "    </tr>\n",
       "    <tr>\n",
       "      <th>1</th>\n",
       "      <td>4</td>\n",
       "      <td>12:00</td>\n",
       "      <td>chicken_id</td>\n",
       "      <td>I</td>\n",
       "      <td>http://www.purl.org/infection_trans#Swab</td>\n",
       "      <td>-</td>\n",
       "    </tr>\n",
       "    <tr>\n",
       "      <th>2</th>\n",
       "      <td>4</td>\n",
       "      <td>16:00</td>\n",
       "      <td>chicken_id</td>\n",
       "      <td>I</td>\n",
       "      <td>http://www.purl.org/infection_trans#Swab</td>\n",
       "      <td>+</td>\n",
       "    </tr>\n",
       "  </tbody>\n",
       "</table>\n",
       "</div>"
      ],
      "text/plain": [
       "  ex_day ex_hour     host_id inoculationStatus  \\\n",
       "0      3   12:00  chicken_id                 I   \n",
       "1      4   12:00  chicken_id                 I   \n",
       "2      4   16:00  chicken_id                 I   \n",
       "\n",
       "                                sample_type sample_result  \n",
       "0  http://www.purl.org/infection_trans#Swab             -  \n",
       "1  http://www.purl.org/infection_trans#Swab             -  \n",
       "2  http://www.purl.org/infection_trans#Swab             +  "
      ]
     },
     "execution_count": 23,
     "metadata": {},
     "output_type": "execute_result"
    }
   ],
   "source": [
    "\n",
    "\n",
    "result = pd.DataFrame(\n",
    "        data=([None if x is None else x.toPython() for x in row] for row in qres1),\n",
    "        columns=[str(x) for x in qres1.vars],\n",
    "    )\n",
    "\n",
    "result"
   ]
  },
  {
   "cell_type": "markdown",
   "id": "015321c6",
   "metadata": {},
   "source": [
    "# Example 2"
   ]
  },
  {
   "cell_type": "markdown",
   "id": "e05cbfef",
   "metadata": {},
   "source": [
    "### In this example we show already preprocessed file with multiple measurements per row"
   ]
  },
  {
   "cell_type": "code",
   "execution_count": 24,
   "id": "68e35311",
   "metadata": {},
   "outputs": [],
   "source": [
    "mappings2 = Mappings(config2)"
   ]
  },
  {
   "cell_type": "code",
   "execution_count": 25,
   "id": "5c250ded",
   "metadata": {},
   "outputs": [
    {
     "data": {
      "text/html": [
       "<div>\n",
       "<style scoped>\n",
       "    .dataframe tbody tr th:only-of-type {\n",
       "        vertical-align: middle;\n",
       "    }\n",
       "\n",
       "    .dataframe tbody tr th {\n",
       "        vertical-align: top;\n",
       "    }\n",
       "\n",
       "    .dataframe thead th {\n",
       "        text-align: right;\n",
       "    }\n",
       "</style>\n",
       "<table border=\"1\" class=\"dataframe\">\n",
       "  <thead>\n",
       "    <tr style=\"text-align: right;\">\n",
       "      <th></th>\n",
       "      <th>﻿house</th>\n",
       "      <th>pen</th>\n",
       "      <th>house_pen</th>\n",
       "      <th>treatment</th>\n",
       "      <th>animalnr_col</th>\n",
       "      <th>I,S1, S2</th>\n",
       "      <th>weight_d0</th>\n",
       "      <th>weight_d21</th>\n",
       "      <th>BS0</th>\n",
       "      <th>BS0_date</th>\n",
       "      <th>...</th>\n",
       "      <th>swab1</th>\n",
       "      <th>swab1_date</th>\n",
       "      <th>swab2</th>\n",
       "      <th>swab2_date</th>\n",
       "      <th>swab2_value</th>\n",
       "      <th>swab3</th>\n",
       "      <th>swab3_date</th>\n",
       "      <th>swab3_value</th>\n",
       "      <th>value_weight_d0</th>\n",
       "      <th>value_weight_d21</th>\n",
       "    </tr>\n",
       "  </thead>\n",
       "  <tbody>\n",
       "    <tr>\n",
       "      <th>0</th>\n",
       "      <td>1</td>\n",
       "      <td>S1</td>\n",
       "      <td>H1_S1</td>\n",
       "      <td>control</td>\n",
       "      <td>3_Ge</td>\n",
       "      <td>S2</td>\n",
       "      <td>35,72</td>\n",
       "      <td>732</td>\n",
       "      <td>-*</td>\n",
       "      <td>-1</td>\n",
       "      <td>...</td>\n",
       "      <td>-</td>\n",
       "      <td>5</td>\n",
       "      <td>-*</td>\n",
       "      <td>6</td>\n",
       "      <td></td>\n",
       "      <td>-*</td>\n",
       "      <td>7</td>\n",
       "      <td></td>\n",
       "      <td>0</td>\n",
       "      <td>21</td>\n",
       "    </tr>\n",
       "    <tr>\n",
       "      <th>1</th>\n",
       "      <td>1</td>\n",
       "      <td>S1</td>\n",
       "      <td>H1_S1</td>\n",
       "      <td>control</td>\n",
       "      <td>10_Ge</td>\n",
       "      <td>S2</td>\n",
       "      <td>43,51</td>\n",
       "      <td>934</td>\n",
       "      <td>-*</td>\n",
       "      <td>-1</td>\n",
       "      <td>...</td>\n",
       "      <td>-</td>\n",
       "      <td>5</td>\n",
       "      <td>-</td>\n",
       "      <td>6</td>\n",
       "      <td></td>\n",
       "      <td>-</td>\n",
       "      <td>7</td>\n",
       "      <td></td>\n",
       "      <td>0</td>\n",
       "      <td>21</td>\n",
       "    </tr>\n",
       "  </tbody>\n",
       "</table>\n",
       "<p>2 rows × 25 columns</p>\n",
       "</div>"
      ],
      "text/plain": [
       "   ﻿house pen house_pen treatment animalnr_col I,S1, S2 weight_d0  weight_d21  \\\n",
       "0       1  S1     H1_S1   control         3_Ge       S2     35,72         732   \n",
       "1       1  S1     H1_S1   control        10_Ge       S2     43,51         934   \n",
       "\n",
       "  BS0  BS0_date  ... swab1 swab1_date  swab2 swab2_date swab2_value swab3  \\\n",
       "0  -*        -1  ...     -          5     -*          6                -*   \n",
       "1  -*        -1  ...     -          5      -          6                 -   \n",
       "\n",
       "   swab3_date swab3_value  value_weight_d0 value_weight_d21  \n",
       "0           7                            0               21  \n",
       "1           7                            0               21  \n",
       "\n",
       "[2 rows x 25 columns]"
      ]
     },
     "execution_count": 25,
     "metadata": {},
     "output_type": "execute_result"
    }
   ],
   "source": [
    "dataset2 = Dataset(str(trans_data2),mappings2)\n",
    "dataset2.dataset"
   ]
  },
  {
   "cell_type": "markdown",
   "id": "c573764c",
   "metadata": {},
   "source": [
    "### To capture mote than one measurement in the mapping file the class Measuremnet represents as list of values"
   ]
  },
  {
   "cell_type": "code",
   "execution_count": 26,
   "id": "b9212843",
   "metadata": {},
   "outputs": [
    {
     "data": {
      "text/plain": [
       "[{'experimentDay': 'weight_d(.*)',\n",
       "  'hasQuantity': 'BodyMass',\n",
       "  'hasHost': 'Host',\n",
       "  'BodyMass': {'hasPhenomenon': 'Host'},\n",
       "  'Measure': {'hasNumericalValue': 'weight_d.*'}},\n",
       " {'experimentDay': 'BS.*_date',\n",
       "  'hasHost': 'Environment',\n",
       "  'Sample': {'result': 'BS.*', 'hasType': 'EnvironmentalSample'},\n",
       "  'Pathogen': {'name': 'BS.*_value'}},\n",
       " {'experimentDay': 'swab.*_date',\n",
       "  'hasHost': 'Host',\n",
       "  'Sample': {'hasType': 'SwabSample', 'result': 'swab.*'},\n",
       "  'Pathogen': {'name': 'swab.*_value'}}]"
      ]
     },
     "execution_count": 26,
     "metadata": {},
     "output_type": "execute_result"
    }
   ],
   "source": [
    "measurements = mappings2.ont_mappings['Measurement']\n",
    "\n",
    "measurements"
   ]
  },
  {
   "cell_type": "code",
   "execution_count": 27,
   "id": "99e0634e",
   "metadata": {},
   "outputs": [
    {
     "data": {
      "text/plain": [
       "{'Experiment': {'experimentID': 'A', 'experimentDay': 'experimentDay'},\n",
       " 'Environment': {'level2': 'house', 'level1': 'pen'},\n",
       " 'Host': {'id': 'animalnr_col',\n",
       "  'treatment': 'treatment',\n",
       "  'inoculationStatus': 'I, S1, S2',\n",
       "  'type': 'broiler',\n",
       "  'locatedIn': 'Environment'},\n",
       " 'Measurement': [{'experimentDay': 'weight_d(.*)',\n",
       "   'hasQuantity': 'BodyMass',\n",
       "   'hasHost': 'Host',\n",
       "   'BodyMass': {'hasPhenomenon': 'Host'},\n",
       "   'Measure': {'hasNumericalValue': 'weight_d.*'}},\n",
       "  {'experimentDay': 'BS.*_date',\n",
       "   'hasHost': 'Environment',\n",
       "   'Sample': {'result': 'BS.*', 'hasType': 'EnvironmentalSample'},\n",
       "   'Pathogen': {'name': 'BS.*_value'}},\n",
       "  {'experimentDay': 'swab.*_date',\n",
       "   'hasHost': 'Host',\n",
       "   'Sample': {'hasType': 'SwabSample', 'result': 'swab.*'},\n",
       "   'Pathogen': {'name': 'swab.*_value'}}]}"
      ]
     },
     "execution_count": 27,
     "metadata": {},
     "output_type": "execute_result"
    }
   ],
   "source": [
    "mappings2.ont_mappings\n"
   ]
  },
  {
   "cell_type": "markdown",
   "id": "f0e695b5",
   "metadata": {},
   "source": [
    "### Measurement of Weight of chicken is first element in the list"
   ]
  },
  {
   "cell_type": "code",
   "execution_count": 28,
   "id": "30ddae7c",
   "metadata": {},
   "outputs": [
    {
     "data": {
      "text/plain": [
       "{'experimentDay': 'weight_d(.*)',\n",
       " 'hasQuantity': 'BodyMass',\n",
       " 'hasHost': 'Host',\n",
       " 'BodyMass': {'hasPhenomenon': 'Host'},\n",
       " 'Measure': {'hasNumericalValue': 'weight_d.*'}}"
      ]
     },
     "execution_count": 28,
     "metadata": {},
     "output_type": "execute_result"
    }
   ],
   "source": [
    "measurements[0]"
   ]
  },
  {
   "cell_type": "markdown",
   "id": "29d2421e",
   "metadata": {},
   "source": [
    "### Measurement of Bootsock sample is second element in the list"
   ]
  },
  {
   "cell_type": "code",
   "execution_count": 29,
   "id": "067079ae",
   "metadata": {},
   "outputs": [
    {
     "data": {
      "text/plain": [
       "{'experimentDay': 'BS.*_date',\n",
       " 'hasHost': 'Environment',\n",
       " 'Sample': {'result': 'BS.*', 'hasType': 'EnvironmentalSample'},\n",
       " 'Pathogen': {'name': 'BS.*_value'}}"
      ]
     },
     "execution_count": 29,
     "metadata": {},
     "output_type": "execute_result"
    }
   ],
   "source": [
    "measurements[1]"
   ]
  },
  {
   "cell_type": "markdown",
   "id": "8f7e2f78",
   "metadata": {},
   "source": [
    "### Measurement of Swab sample is third element in the list"
   ]
  },
  {
   "cell_type": "code",
   "execution_count": 30,
   "id": "fb072848",
   "metadata": {},
   "outputs": [
    {
     "data": {
      "text/plain": [
       "{'experimentDay': 'swab.*_date',\n",
       " 'hasHost': 'Host',\n",
       " 'Sample': {'hasType': 'SwabSample', 'result': 'swab.*'},\n",
       " 'Pathogen': {'name': 'swab.*_value'}}"
      ]
     },
     "execution_count": 30,
     "metadata": {},
     "output_type": "execute_result"
    }
   ],
   "source": [
    "measurements[2]"
   ]
  },
  {
   "cell_type": "code",
   "execution_count": 31,
   "id": "96c2916c",
   "metadata": {},
   "outputs": [
    {
     "data": {
      "text/html": [
       "<div>\n",
       "<style scoped>\n",
       "    .dataframe tbody tr th:only-of-type {\n",
       "        vertical-align: middle;\n",
       "    }\n",
       "\n",
       "    .dataframe tbody tr th {\n",
       "        vertical-align: top;\n",
       "    }\n",
       "\n",
       "    .dataframe thead th {\n",
       "        text-align: right;\n",
       "    }\n",
       "</style>\n",
       "<table border=\"1\" class=\"dataframe\">\n",
       "  <thead>\n",
       "    <tr style=\"text-align: right;\">\n",
       "      <th></th>\n",
       "      <th>I,S1, S2</th>\n",
       "      <th>animalnr_col</th>\n",
       "      <th>house_pen</th>\n",
       "      <th>pen</th>\n",
       "      <th>treatment</th>\n",
       "      <th>﻿house</th>\n",
       "      <th>experimentDay</th>\n",
       "      <th>weight_d.*</th>\n",
       "      <th>BS.*</th>\n",
       "      <th>BS.*_value</th>\n",
       "      <th>swab.*</th>\n",
       "      <th>swab.*_value</th>\n",
       "    </tr>\n",
       "  </thead>\n",
       "  <tbody>\n",
       "    <tr>\n",
       "      <th>0</th>\n",
       "      <td>S2</td>\n",
       "      <td>3_Ge</td>\n",
       "      <td>H1_S1</td>\n",
       "      <td>S1</td>\n",
       "      <td>control</td>\n",
       "      <td>1</td>\n",
       "      <td>0</td>\n",
       "      <td>35,72</td>\n",
       "      <td></td>\n",
       "      <td></td>\n",
       "      <td></td>\n",
       "      <td></td>\n",
       "    </tr>\n",
       "    <tr>\n",
       "      <th>1</th>\n",
       "      <td>S2</td>\n",
       "      <td>10_Ge</td>\n",
       "      <td>H1_S1</td>\n",
       "      <td>S1</td>\n",
       "      <td>control</td>\n",
       "      <td>1</td>\n",
       "      <td>0</td>\n",
       "      <td>43,51</td>\n",
       "      <td></td>\n",
       "      <td></td>\n",
       "      <td></td>\n",
       "      <td></td>\n",
       "    </tr>\n",
       "    <tr>\n",
       "      <th>2</th>\n",
       "      <td>S2</td>\n",
       "      <td>3_Ge</td>\n",
       "      <td>H1_S1</td>\n",
       "      <td>S1</td>\n",
       "      <td>control</td>\n",
       "      <td>1</td>\n",
       "      <td>21</td>\n",
       "      <td>732</td>\n",
       "      <td></td>\n",
       "      <td></td>\n",
       "      <td></td>\n",
       "      <td></td>\n",
       "    </tr>\n",
       "    <tr>\n",
       "      <th>3</th>\n",
       "      <td>S2</td>\n",
       "      <td>10_Ge</td>\n",
       "      <td>H1_S1</td>\n",
       "      <td>S1</td>\n",
       "      <td>control</td>\n",
       "      <td>1</td>\n",
       "      <td>21</td>\n",
       "      <td>934</td>\n",
       "      <td></td>\n",
       "      <td></td>\n",
       "      <td></td>\n",
       "      <td></td>\n",
       "    </tr>\n",
       "    <tr>\n",
       "      <th>4</th>\n",
       "      <td>S2</td>\n",
       "      <td>3_Ge</td>\n",
       "      <td>H1_S1</td>\n",
       "      <td>S1</td>\n",
       "      <td>control</td>\n",
       "      <td>1</td>\n",
       "      <td>-1</td>\n",
       "      <td></td>\n",
       "      <td>-*</td>\n",
       "      <td></td>\n",
       "      <td></td>\n",
       "      <td></td>\n",
       "    </tr>\n",
       "    <tr>\n",
       "      <th>5</th>\n",
       "      <td>S2</td>\n",
       "      <td>10_Ge</td>\n",
       "      <td>H1_S1</td>\n",
       "      <td>S1</td>\n",
       "      <td>control</td>\n",
       "      <td>1</td>\n",
       "      <td>-1</td>\n",
       "      <td></td>\n",
       "      <td>-*</td>\n",
       "      <td></td>\n",
       "      <td></td>\n",
       "      <td></td>\n",
       "    </tr>\n",
       "    <tr>\n",
       "      <th>6</th>\n",
       "      <td>S2</td>\n",
       "      <td>3_Ge</td>\n",
       "      <td>H1_S1</td>\n",
       "      <td>S1</td>\n",
       "      <td>control</td>\n",
       "      <td>1</td>\n",
       "      <td>2</td>\n",
       "      <td></td>\n",
       "      <td>-*</td>\n",
       "      <td></td>\n",
       "      <td></td>\n",
       "      <td></td>\n",
       "    </tr>\n",
       "    <tr>\n",
       "      <th>7</th>\n",
       "      <td>S2</td>\n",
       "      <td>10_Ge</td>\n",
       "      <td>H1_S1</td>\n",
       "      <td>S1</td>\n",
       "      <td>control</td>\n",
       "      <td>1</td>\n",
       "      <td>2</td>\n",
       "      <td></td>\n",
       "      <td>-*</td>\n",
       "      <td></td>\n",
       "      <td></td>\n",
       "      <td></td>\n",
       "    </tr>\n",
       "    <tr>\n",
       "      <th>8</th>\n",
       "      <td>S2</td>\n",
       "      <td>3_Ge</td>\n",
       "      <td>H1_S1</td>\n",
       "      <td>S1</td>\n",
       "      <td>control</td>\n",
       "      <td>1</td>\n",
       "      <td>5</td>\n",
       "      <td></td>\n",
       "      <td></td>\n",
       "      <td></td>\n",
       "      <td>-</td>\n",
       "      <td></td>\n",
       "    </tr>\n",
       "    <tr>\n",
       "      <th>9</th>\n",
       "      <td>S2</td>\n",
       "      <td>10_Ge</td>\n",
       "      <td>H1_S1</td>\n",
       "      <td>S1</td>\n",
       "      <td>control</td>\n",
       "      <td>1</td>\n",
       "      <td>5</td>\n",
       "      <td></td>\n",
       "      <td></td>\n",
       "      <td></td>\n",
       "      <td>-</td>\n",
       "      <td></td>\n",
       "    </tr>\n",
       "    <tr>\n",
       "      <th>10</th>\n",
       "      <td>S2</td>\n",
       "      <td>3_Ge</td>\n",
       "      <td>H1_S1</td>\n",
       "      <td>S1</td>\n",
       "      <td>control</td>\n",
       "      <td>1</td>\n",
       "      <td>6</td>\n",
       "      <td></td>\n",
       "      <td></td>\n",
       "      <td></td>\n",
       "      <td>-*</td>\n",
       "      <td></td>\n",
       "    </tr>\n",
       "    <tr>\n",
       "      <th>11</th>\n",
       "      <td>S2</td>\n",
       "      <td>10_Ge</td>\n",
       "      <td>H1_S1</td>\n",
       "      <td>S1</td>\n",
       "      <td>control</td>\n",
       "      <td>1</td>\n",
       "      <td>6</td>\n",
       "      <td></td>\n",
       "      <td></td>\n",
       "      <td></td>\n",
       "      <td>-</td>\n",
       "      <td></td>\n",
       "    </tr>\n",
       "    <tr>\n",
       "      <th>12</th>\n",
       "      <td>S2</td>\n",
       "      <td>3_Ge</td>\n",
       "      <td>H1_S1</td>\n",
       "      <td>S1</td>\n",
       "      <td>control</td>\n",
       "      <td>1</td>\n",
       "      <td>7</td>\n",
       "      <td></td>\n",
       "      <td></td>\n",
       "      <td></td>\n",
       "      <td>-*</td>\n",
       "      <td></td>\n",
       "    </tr>\n",
       "    <tr>\n",
       "      <th>13</th>\n",
       "      <td>S2</td>\n",
       "      <td>10_Ge</td>\n",
       "      <td>H1_S1</td>\n",
       "      <td>S1</td>\n",
       "      <td>control</td>\n",
       "      <td>1</td>\n",
       "      <td>7</td>\n",
       "      <td></td>\n",
       "      <td></td>\n",
       "      <td></td>\n",
       "      <td>-</td>\n",
       "      <td></td>\n",
       "    </tr>\n",
       "  </tbody>\n",
       "</table>\n",
       "</div>"
      ],
      "text/plain": [
       "   I,S1, S2 animalnr_col house_pen pen treatment  ﻿house  experimentDay  \\\n",
       "0        S2         3_Ge     H1_S1  S1   control       1              0   \n",
       "1        S2        10_Ge     H1_S1  S1   control       1              0   \n",
       "2        S2         3_Ge     H1_S1  S1   control       1             21   \n",
       "3        S2        10_Ge     H1_S1  S1   control       1             21   \n",
       "4        S2         3_Ge     H1_S1  S1   control       1             -1   \n",
       "5        S2        10_Ge     H1_S1  S1   control       1             -1   \n",
       "6        S2         3_Ge     H1_S1  S1   control       1              2   \n",
       "7        S2        10_Ge     H1_S1  S1   control       1              2   \n",
       "8        S2         3_Ge     H1_S1  S1   control       1              5   \n",
       "9        S2        10_Ge     H1_S1  S1   control       1              5   \n",
       "10       S2         3_Ge     H1_S1  S1   control       1              6   \n",
       "11       S2        10_Ge     H1_S1  S1   control       1              6   \n",
       "12       S2         3_Ge     H1_S1  S1   control       1              7   \n",
       "13       S2        10_Ge     H1_S1  S1   control       1              7   \n",
       "\n",
       "   weight_d.* BS.* BS.*_value swab.* swab.*_value  \n",
       "0       35,72                                      \n",
       "1       43,51                                      \n",
       "2         732                                      \n",
       "3         934                                      \n",
       "4               -*                                 \n",
       "5               -*                                 \n",
       "6               -*                                 \n",
       "7               -*                                 \n",
       "8                                  -               \n",
       "9                                  -               \n",
       "10                                -*               \n",
       "11                                 -               \n",
       "12                                -*               \n",
       "13                                 -               "
      ]
     },
     "execution_count": 31,
     "metadata": {},
     "output_type": "execute_result"
    }
   ],
   "source": [
    "dataset2.tidy_dataset"
   ]
  },
  {
   "cell_type": "code",
   "execution_count": 32,
   "id": "3597e2ed",
   "metadata": {},
   "outputs": [],
   "source": [
    "ontology2 = Ontology(ont_file)"
   ]
  },
  {
   "cell_type": "code",
   "execution_count": 24,
   "id": "adab0b32",
   "metadata": {},
   "outputs": [
    {
     "data": {
      "text/plain": [
       "{'required': 'animalnr_col',\n",
       " 'ontology_schema': {'Experiment': {'experimentID': 'A',\n",
       "   'experimentDay': 'experimentDay'},\n",
       "  'Environment': {'level2': 'house', 'level1': 'pen'},\n",
       "  'Host': {'id': 'animalnr_col',\n",
       "   'treatment': 'treatment',\n",
       "   'inoculationStatus': 'I, S1, S2',\n",
       "   'type': 'broiler',\n",
       "   'locatedIn': 'Environment'},\n",
       "  'Measurement': [{'experimentDay': 'weight_d(.*)',\n",
       "    'hasQuantity': 'BodyMass',\n",
       "    'hasHost': 'Host',\n",
       "    'BodyMass': {'hasPhenomenon': 'Host'},\n",
       "    'Measure': {'hasNumericalValue': 'weight_d.*'}},\n",
       "   {'experimentDay': 'BS.*_date',\n",
       "    'hasHost': 'Environment',\n",
       "    'Sample': {'result': 'BS.*', 'hasType': 'EnvironmentalSample'},\n",
       "    'Pathogen': {'name': 'BS.*_value'}},\n",
       "   {'experimentDay': 'swab.*_date',\n",
       "    'hasHost': 'Host',\n",
       "    'Sample': {'hasType': 'SwabSample', 'result': 'swab.*'},\n",
       "    'Pathogen': {'name': 'swab.*_value'}}]}}"
      ]
     },
     "execution_count": 24,
     "metadata": {},
     "output_type": "execute_result"
    }
   ],
   "source": [
    "mappings2.mappings\n"
   ]
  },
  {
   "cell_type": "code",
   "execution_count": 25,
   "id": "cc18972e",
   "metadata": {},
   "outputs": [
    {
     "name": "stdout",
     "output_type": "stream",
     "text": [
      "<ontology.Individual object at 0x1200b3b20> <ontology.Individual object at 0x1200b3490>\n",
      "<ontology.Individual object at 0x1200b37c0> <ontology.Individual object at 0x1200b3a30>\n",
      "<ontology.Individual object at 0x11ff6ee20> <ontology.Individual object at 0x1200b3b20>\n",
      "<ontology.Individual object at 0x1200b37c0> <ontology.Individual object at 0x11ff6ee20>\n",
      "<ontology.Individual object at 0x1200b37c0> <ontology.Individual object at 0x1200c7370>\n",
      "<ontology.Individual object at 0x11ff6ee20> <ontology.Individual object at 0x1200c7370>\n",
      "<ontology.Individual object at 0x1200b37c0> BodyMass\n",
      "<ontology.Individual object at 0x1200b37c0> <ontology.Individual object at 0x1200b3b20>\n",
      "<ontology.Individual object at 0x1200b37c0> <ontology.Individual object at 0x11ff92d90>\n",
      "<ontology.Individual object at 0x11ff4b070> <ontology.Individual object at 0x11ff92640>\n",
      "<ontology.Individual object at 0x1200c7a90> <ontology.Individual object at 0x1200b37c0>\n",
      "<ontology.Individual object at 0x11ff4b070> <ontology.Individual object at 0x1200c7a90>\n",
      "<ontology.Individual object at 0x11ff4b070> <ontology.Individual object at 0x1200c7d30>\n",
      "<ontology.Individual object at 0x1200c7a90> <ontology.Individual object at 0x1200c7d30>\n",
      "<ontology.Individual object at 0x11ff4b070> BodyMass\n",
      "<ontology.Individual object at 0x11ff4b070> <ontology.Individual object at 0x1200b37c0>\n",
      "<ontology.Individual object at 0x1200b3b20> <ontology.Individual object at 0x1200b3a30>\n",
      "<ontology.Individual object at 0x11ff6e640> <ontology.Individual object at 0x1200b3d90>\n",
      "<ontology.Individual object at 0x11ff19520> <ontology.Individual object at 0x1200b3b20>\n",
      "<ontology.Individual object at 0x11ff6e640> <ontology.Individual object at 0x11ff19520>\n",
      "<ontology.Individual object at 0x11ff6e640> <ontology.Individual object at 0x1200c79d0>\n",
      "<ontology.Individual object at 0x11ff19520> <ontology.Individual object at 0x1200c79d0>\n",
      "<ontology.Individual object at 0x11ff6e640> BodyMass\n",
      "<ontology.Individual object at 0x11ff6e640> <ontology.Individual object at 0x1200b3b20>\n",
      "<ontology.Individual object at 0x1200b3a30> <ontology.Individual object at 0x11ff526a0>\n",
      "<ontology.Individual object at 0x11ff5cc70> <ontology.Individual object at 0x1200b3dc0>\n",
      "<ontology.Individual object at 0x1200b3880> <ontology.Individual object at 0x1200b3a30>\n",
      "<ontology.Individual object at 0x11ff5cc70> <ontology.Individual object at 0x1200b3880>\n",
      "<ontology.Individual object at 0x11ff5cc70> <ontology.Individual object at 0x1200c7940>\n",
      "<ontology.Individual object at 0x1200b3880> <ontology.Individual object at 0x1200c7940>\n",
      "<ontology.Individual object at 0x11ff5cc70> BodyMass\n",
      "<ontology.Individual object at 0x11ff5cc70> <ontology.Individual object at 0x1200b3a30>\n",
      "<ontology.Individual object at 0x10fcd5820> <ontology.Individual object at 0x11ff6e130>\n",
      "<ontology.Individual object at 0x1200b3460> <ontology.Individual object at 0x11ff6e9a0>\n",
      "<ontology.Individual object at 0x11ff5cc70> EnvironmentalSample\n",
      "<ontology.Individual object at 0x1200b3460> <ontology.Individual object at 0x11ff5cc70>\n",
      "<ontology.Individual object at 0x1200b3460> <ontology.Individual object at 0x11ff639d0>\n",
      "<ontology.Individual object at 0x11ff5cc70> <ontology.Individual object at 0x11ff639d0>\n",
      "<ontology.Individual object at 0x1200b3460> <ontology.Individual object at 0x11ff6e130>\n",
      "<ontology.Individual object at 0x11ff6e9a0> <ontology.Individual object at 0x11ff4b1c0>\n",
      "<ontology.Individual object at 0x1200b3580> <ontology.Individual object at 0x11ff6e2e0>\n",
      "<ontology.Individual object at 0x11ff63fd0> EnvironmentalSample\n",
      "<ontology.Individual object at 0x1200b3580> <ontology.Individual object at 0x11ff63fd0>\n",
      "<ontology.Individual object at 0x1200b3580> <ontology.Individual object at 0x11ff526a0>\n",
      "<ontology.Individual object at 0x11ff63fd0> <ontology.Individual object at 0x11ff526a0>\n",
      "<ontology.Individual object at 0x1200b3580> <ontology.Individual object at 0x11ff4b1c0>\n",
      "<ontology.Individual object at 0x1200c7be0> <ontology.Individual object at 0x1200c7c10>\n",
      "<ontology.Individual object at 0x1200b3520> <ontology.Individual object at 0x1200c7970>\n",
      "<ontology.Individual object at 0x11ff63f10> EnvironmentalSample\n",
      "<ontology.Individual object at 0x1200b3520> <ontology.Individual object at 0x11ff63f10>\n",
      "<ontology.Individual object at 0x1200b3520> <ontology.Individual object at 0x1200c7af0>\n",
      "<ontology.Individual object at 0x11ff63f10> <ontology.Individual object at 0x1200c7af0>\n",
      "<ontology.Individual object at 0x1200b3520> <ontology.Individual object at 0x1200c7c10>\n",
      "<ontology.Individual object at 0x1200c7d90> <ontology.Individual object at 0x1200c7e20>\n",
      "<ontology.Individual object at 0x10fcd5820> <ontology.Individual object at 0x1200c7c70>\n",
      "<ontology.Individual object at 0x1200b3910> EnvironmentalSample\n",
      "<ontology.Individual object at 0x10fcd5820> <ontology.Individual object at 0x1200b3910>\n",
      "<ontology.Individual object at 0x10fcd5820> <ontology.Individual object at 0x1200c7c10>\n",
      "<ontology.Individual object at 0x1200b3910> <ontology.Individual object at 0x1200c7c10>\n",
      "<ontology.Individual object at 0x10fcd5820> <ontology.Individual object at 0x1200c7e20>\n",
      "<ontology.Individual object at 0x1200c7c40> <ontology.Individual object at 0x1200c79a0>\n",
      "<ontology.Individual object at 0x11ff6e130> <ontology.Individual object at 0x1200c7b80>\n",
      "<ontology.Individual object at 0x11ff63a60> SwabSample\n"
     ]
    },
    {
     "ename": "AttributeError",
     "evalue": "'str' object has no attribute 'is_a'",
     "output_type": "error",
     "traceback": [
      "\u001b[0;31m---------------------------------------------------------------------------\u001b[0m",
      "\u001b[0;31mAttributeError\u001b[0m                            Traceback (most recent call last)",
      "\u001b[0;32m/var/folders/gx/3fgv9qld73xdh9nn20d1qmsh0000gp/T/ipykernel_71851/977743873.py\u001b[0m in \u001b[0;36m<module>\u001b[0;34m\u001b[0m\n\u001b[1;32m      3\u001b[0m     \u001b[0;31m# if it doesn't exit then run it for each row\u001b[0m\u001b[0;34m\u001b[0m\u001b[0;34m\u001b[0m\u001b[0m\n\u001b[1;32m      4\u001b[0m     \u001b[0;32mif\u001b[0m \u001b[0mmappings2\u001b[0m\u001b[0;34m.\u001b[0m\u001b[0mrequired_field\u001b[0m \u001b[0;32mis\u001b[0m \u001b[0;32mNone\u001b[0m \u001b[0;32mor\u001b[0m \u001b[0mrow\u001b[0m\u001b[0;34m[\u001b[0m\u001b[0mmappings2\u001b[0m\u001b[0;34m.\u001b[0m\u001b[0mrequired_field\u001b[0m\u001b[0;34m]\u001b[0m\u001b[0;34m:\u001b[0m\u001b[0;34m\u001b[0m\u001b[0;34m\u001b[0m\u001b[0m\n\u001b[0;32m----> 5\u001b[0;31m         \u001b[0montology2\u001b[0m\u001b[0;34m.\u001b[0m\u001b[0mpopulate_ontology\u001b[0m\u001b[0;34m(\u001b[0m\u001b[0mmappings2\u001b[0m\u001b[0;34m,\u001b[0m \u001b[0mrow\u001b[0m\u001b[0;34m)\u001b[0m\u001b[0;34m\u001b[0m\u001b[0;34m\u001b[0m\u001b[0m\n\u001b[0m",
      "\u001b[0;32m~/summer-fair/src/create_ontology/map_ontology/ontology.py\u001b[0m in \u001b[0;36mpopulate_ontology\u001b[0;34m(self, mappings, row)\u001b[0m\n\u001b[1;32m    242\u001b[0m                         \u001b[0mmapped_properties\u001b[0m \u001b[0;34m=\u001b[0m \u001b[0mself\u001b[0m\u001b[0;34m.\u001b[0m\u001b[0mget_mapped_columns\u001b[0m\u001b[0;34m(\u001b[0m\u001b[0mdependant_classes\u001b[0m\u001b[0;34m)\u001b[0m\u001b[0;34m\u001b[0m\u001b[0;34m\u001b[0m\u001b[0m\n\u001b[1;32m    243\u001b[0m                         \u001b[0;32mif\u001b[0m \u001b[0;34m(\u001b[0m\u001b[0;32mnot\u001b[0m \u001b[0mempty_data\u001b[0m\u001b[0;34m(\u001b[0m\u001b[0mmapped_properties\u001b[0m\u001b[0;34m,\u001b[0m \u001b[0mrow\u001b[0m\u001b[0;34m)\u001b[0m \u001b[0;32mand\u001b[0m \u001b[0mmapped_properties\u001b[0m\u001b[0;34m)\u001b[0m \u001b[0;32mor\u001b[0m \u001b[0;32mnot\u001b[0m \u001b[0mmapped_properties\u001b[0m\u001b[0;34m:\u001b[0m\u001b[0;34m\u001b[0m\u001b[0;34m\u001b[0m\u001b[0m\n\u001b[0;32m--> 244\u001b[0;31m                             self.create_reoccur_individual(ont_class, properties, row,\n\u001b[0m\u001b[1;32m    245\u001b[0m                                                        dependant_classes)\n\u001b[1;32m    246\u001b[0m                     \u001b[0;32melse\u001b[0m\u001b[0;34m:\u001b[0m\u001b[0;34m\u001b[0m\u001b[0;34m\u001b[0m\u001b[0m\n",
      "\u001b[0;32m~/summer-fair/src/create_ontology/map_ontology/ontology.py\u001b[0m in \u001b[0;36mcreate_reoccur_individual\u001b[0;34m(self, ont_class, map_properties, row, dependant_classes)\u001b[0m\n\u001b[1;32m    173\u001b[0m         \u001b[0;32mif\u001b[0m \u001b[0mdependant_classes\u001b[0m\u001b[0;34m:\u001b[0m\u001b[0;34m\u001b[0m\u001b[0;34m\u001b[0m\u001b[0m\n\u001b[1;32m    174\u001b[0m             \u001b[0;32mfor\u001b[0m \u001b[0mdependant_class\u001b[0m \u001b[0;32min\u001b[0m \u001b[0mdependant_classes\u001b[0m\u001b[0;34m:\u001b[0m\u001b[0;34m\u001b[0m\u001b[0;34m\u001b[0m\u001b[0m\n\u001b[0;32m--> 175\u001b[0;31m                 dependant_individual = self.create_reoccur_individual(dependant_class,\n\u001b[0m\u001b[1;32m    176\u001b[0m                                                                       dependant_classes[dependant_class], row)\n\u001b[1;32m    177\u001b[0m                 \u001b[0mall_dependant_classes\u001b[0m\u001b[0;34m[\u001b[0m\u001b[0mdependant_class\u001b[0m\u001b[0;34m]\u001b[0m \u001b[0;34m=\u001b[0m \u001b[0mdependant_individual\u001b[0m\u001b[0;34m\u001b[0m\u001b[0;34m\u001b[0m\u001b[0m\n",
      "\u001b[0;32m~/summer-fair/src/create_ontology/map_ontology/ontology.py\u001b[0m in \u001b[0;36mcreate_reoccur_individual\u001b[0;34m(self, ont_class, map_properties, row, dependant_classes)\u001b[0m\n\u001b[1;32m    192\u001b[0m                     \u001b[0mindividual2\u001b[0m \u001b[0;34m=\u001b[0m \u001b[0mall_dependant_classes\u001b[0m\u001b[0;34m[\u001b[0m\u001b[0mindividual2\u001b[0m\u001b[0;34m]\u001b[0m\u001b[0;34m\u001b[0m\u001b[0;34m\u001b[0m\u001b[0m\n\u001b[1;32m    193\u001b[0m            \u001b[0;31m#     print(individual,individual2,relation)\u001b[0m\u001b[0;34m\u001b[0m\u001b[0;34m\u001b[0m\u001b[0m\n\u001b[0;32m--> 194\u001b[0;31m                 \u001b[0mself\u001b[0m\u001b[0;34m.\u001b[0m\u001b[0mcreate_relation\u001b[0m\u001b[0;34m(\u001b[0m\u001b[0mindividual\u001b[0m\u001b[0;34m,\u001b[0m \u001b[0mindividual2\u001b[0m\u001b[0;34m,\u001b[0m \u001b[0mrelation\u001b[0m\u001b[0;34m)\u001b[0m\u001b[0;34m\u001b[0m\u001b[0;34m\u001b[0m\u001b[0m\n\u001b[0m\u001b[1;32m    195\u001b[0m \u001b[0;34m\u001b[0m\u001b[0m\n\u001b[1;32m    196\u001b[0m         \u001b[0;32mreturn\u001b[0m \u001b[0mindividual\u001b[0m\u001b[0;34m\u001b[0m\u001b[0;34m\u001b[0m\u001b[0m\n",
      "\u001b[0;32m~/summer-fair/src/create_ontology/map_ontology/ontology.py\u001b[0m in \u001b[0;36mcreate_relation\u001b[0;34m(self, individual1, individual2, relation)\u001b[0m\n\u001b[1;32m    203\u001b[0m             \u001b[0mclasses_pairs\u001b[0m \u001b[0;34m=\u001b[0m \u001b[0;34m[\u001b[0m\u001b[0;34m(\u001b[0m\u001b[0mindividual1\u001b[0m\u001b[0;34m,\u001b[0m \u001b[0mindividual2\u001b[0m\u001b[0;34m)\u001b[0m\u001b[0;34m,\u001b[0m \u001b[0;34m(\u001b[0m\u001b[0mindividual2\u001b[0m\u001b[0;34m,\u001b[0m \u001b[0mindividual1\u001b[0m\u001b[0;34m)\u001b[0m\u001b[0;34m]\u001b[0m\u001b[0;34m\u001b[0m\u001b[0;34m\u001b[0m\u001b[0m\n\u001b[1;32m    204\u001b[0m             \u001b[0;32mfor\u001b[0m \u001b[0mclasses_pair\u001b[0m \u001b[0;32min\u001b[0m \u001b[0mclasses_pairs\u001b[0m\u001b[0;34m:\u001b[0m\u001b[0;34m\u001b[0m\u001b[0;34m\u001b[0m\u001b[0m\n\u001b[0;32m--> 205\u001b[0;31m                 \u001b[0;32mif\u001b[0m \u001b[0;34m(\u001b[0m\u001b[0mclasses_pair\u001b[0m\u001b[0;34m[\u001b[0m\u001b[0;36m0\u001b[0m\u001b[0;34m]\u001b[0m\u001b[0;34m.\u001b[0m\u001b[0mis_a\u001b[0m\u001b[0;34m,\u001b[0m \u001b[0mclasses_pair\u001b[0m\u001b[0;34m[\u001b[0m\u001b[0;36m1\u001b[0m\u001b[0;34m]\u001b[0m\u001b[0;34m.\u001b[0m\u001b[0mis_a\u001b[0m\u001b[0;34m)\u001b[0m \u001b[0;32min\u001b[0m \u001b[0mself\u001b[0m\u001b[0;34m.\u001b[0m\u001b[0mclass_relations\u001b[0m\u001b[0;34m:\u001b[0m\u001b[0;34m\u001b[0m\u001b[0;34m\u001b[0m\u001b[0m\n\u001b[0m\u001b[1;32m    206\u001b[0m                     \u001b[0mrelation\u001b[0m \u001b[0;34m=\u001b[0m \u001b[0mself\u001b[0m\u001b[0;34m.\u001b[0m\u001b[0mclass_relations\u001b[0m\u001b[0;34m[\u001b[0m\u001b[0;34m(\u001b[0m\u001b[0mclasses_pair\u001b[0m\u001b[0;34m[\u001b[0m\u001b[0;36m0\u001b[0m\u001b[0;34m]\u001b[0m\u001b[0;34m.\u001b[0m\u001b[0mis_a\u001b[0m\u001b[0;34m,\u001b[0m \u001b[0mclasses_pair\u001b[0m\u001b[0;34m[\u001b[0m\u001b[0;36m1\u001b[0m\u001b[0;34m]\u001b[0m\u001b[0;34m.\u001b[0m\u001b[0mis_a\u001b[0m\u001b[0;34m)\u001b[0m\u001b[0;34m]\u001b[0m\u001b[0;34m\u001b[0m\u001b[0;34m\u001b[0m\u001b[0m\n\u001b[1;32m    207\u001b[0m                     \u001b[0mself\u001b[0m\u001b[0;34m.\u001b[0m\u001b[0mgraph\u001b[0m\u001b[0;34m.\u001b[0m\u001b[0madd\u001b[0m\u001b[0;34m(\u001b[0m\u001b[0;34m(\u001b[0m\u001b[0mclasses_pair\u001b[0m\u001b[0;34m[\u001b[0m\u001b[0;36m0\u001b[0m\u001b[0;34m]\u001b[0m\u001b[0;34m.\u001b[0m\u001b[0muri\u001b[0m\u001b[0;34m,\u001b[0m \u001b[0mrelation\u001b[0m\u001b[0;34m,\u001b[0m \u001b[0mclasses_pair\u001b[0m\u001b[0;34m[\u001b[0m\u001b[0;36m1\u001b[0m\u001b[0;34m]\u001b[0m\u001b[0;34m.\u001b[0m\u001b[0muri\u001b[0m\u001b[0;34m)\u001b[0m\u001b[0;34m)\u001b[0m\u001b[0;34m\u001b[0m\u001b[0;34m\u001b[0m\u001b[0m\n",
      "\u001b[0;31mAttributeError\u001b[0m: 'str' object has no attribute 'is_a'"
     ]
    }
   ],
   "source": [
    "for _, row in dataset2.tidy_dataset.iterrows():\n",
    "    # check for the required field\n",
    "    # if it doesn't exit then run it for each row\n",
    "    if mappings2.required_field is None or row[mappings2.required_field]:\n",
    "        ontology2.populate_ontology(mappings2, row)"
   ]
  },
  {
   "cell_type": "code",
   "execution_count": 26,
   "id": "11da90be",
   "metadata": {},
   "outputs": [],
   "source": [
    "ontology2.save_ontology('sample2_test.ttl')"
   ]
  },
  {
   "cell_type": "code",
   "execution_count": 27,
   "id": "a25db94e",
   "metadata": {},
   "outputs": [],
   "source": [
    "query2 = \"\"\"\n",
    "Prefix : <http://www.purl.org/infection_trans#>\n",
    "SELECT ?ex_day ?ex_hour ?host_id ?inoculationStatus ?sample_type  ?sample_result\n",
    "Where{\n",
    "?experiment a :Experiment;\n",
    "                          :experimentDay ?ex_day;\n",
    "                          :hasMeasurement ?measurement.\n",
    "              ?measurement a :Measurement;\n",
    "                           :hasHost ?host.      \n",
    "      \n",
    "\n",
    "}\"\"\"\n",
    "\n",
    "qres2 = ontology2.graph.query(query2)"
   ]
  },
  {
   "cell_type": "code",
   "execution_count": 28,
   "id": "4b493687",
   "metadata": {},
   "outputs": [
    {
     "data": {
      "text/html": [
       "<div>\n",
       "<style scoped>\n",
       "    .dataframe tbody tr th:only-of-type {\n",
       "        vertical-align: middle;\n",
       "    }\n",
       "\n",
       "    .dataframe tbody tr th {\n",
       "        vertical-align: top;\n",
       "    }\n",
       "\n",
       "    .dataframe thead th {\n",
       "        text-align: right;\n",
       "    }\n",
       "</style>\n",
       "<table border=\"1\" class=\"dataframe\">\n",
       "  <thead>\n",
       "    <tr style=\"text-align: right;\">\n",
       "      <th></th>\n",
       "      <th>ex_day</th>\n",
       "      <th>ex_hour</th>\n",
       "      <th>host_id</th>\n",
       "      <th>inoculationStatus</th>\n",
       "      <th>sample_type</th>\n",
       "      <th>sample_result</th>\n",
       "    </tr>\n",
       "  </thead>\n",
       "  <tbody>\n",
       "    <tr>\n",
       "      <th>0</th>\n",
       "      <td>0</td>\n",
       "      <td>None</td>\n",
       "      <td>None</td>\n",
       "      <td>None</td>\n",
       "      <td>None</td>\n",
       "      <td>None</td>\n",
       "    </tr>\n",
       "    <tr>\n",
       "      <th>1</th>\n",
       "      <td>0</td>\n",
       "      <td>None</td>\n",
       "      <td>None</td>\n",
       "      <td>None</td>\n",
       "      <td>None</td>\n",
       "      <td>None</td>\n",
       "    </tr>\n",
       "    <tr>\n",
       "      <th>2</th>\n",
       "      <td>21</td>\n",
       "      <td>None</td>\n",
       "      <td>None</td>\n",
       "      <td>None</td>\n",
       "      <td>None</td>\n",
       "      <td>None</td>\n",
       "    </tr>\n",
       "    <tr>\n",
       "      <th>3</th>\n",
       "      <td>21</td>\n",
       "      <td>None</td>\n",
       "      <td>None</td>\n",
       "      <td>None</td>\n",
       "      <td>None</td>\n",
       "      <td>None</td>\n",
       "    </tr>\n",
       "  </tbody>\n",
       "</table>\n",
       "</div>"
      ],
      "text/plain": [
       "  ex_day ex_hour host_id inoculationStatus sample_type sample_result\n",
       "0      0    None    None              None        None          None\n",
       "1      0    None    None              None        None          None\n",
       "2     21    None    None              None        None          None\n",
       "3     21    None    None              None        None          None"
      ]
     },
     "execution_count": 28,
     "metadata": {},
     "output_type": "execute_result"
    }
   ],
   "source": [
    "result = pd.DataFrame(\n",
    "        data=([None if x is None else x.toPython() for x in row] for row in qres2),\n",
    "        columns=[str(x) for x in qres2.vars],\n",
    "    )\n",
    "\n",
    "result"
   ]
  },
  {
   "cell_type": "code",
   "execution_count": null,
   "id": "40a1d668",
   "metadata": {},
   "outputs": [],
   "source": []
  },
  {
   "cell_type": "code",
   "execution_count": null,
   "id": "f03b6484",
   "metadata": {},
   "outputs": [],
   "source": []
  }
 ],
 "metadata": {
  "kernelspec": {
   "display_name": "Python 3 (ipykernel)",
   "language": "python",
   "name": "python3"
  },
  "language_info": {
   "codemirror_mode": {
    "name": "ipython",
    "version": 3
   },
   "file_extension": ".py",
   "mimetype": "text/x-python",
   "name": "python",
   "nbconvert_exporter": "python",
   "pygments_lexer": "ipython3",
   "version": "3.9.13"
  }
 },
 "nbformat": 4,
 "nbformat_minor": 5
}
