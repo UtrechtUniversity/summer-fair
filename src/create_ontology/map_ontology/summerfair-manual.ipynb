{
 "cells": [
  {
   "cell_type": "markdown",
   "id": "fc28d8f5",
   "metadata": {},
   "source": [
    "# Integrate existing data sets on transmission experiments"
   ]
  },
  {
   "cell_type": "code",
   "execution_count": null,
   "id": "ab7c94c7",
   "metadata": {},
   "outputs": [],
   "source": [
    "from pathlib import Path\n",
    "import pandas as pd\n",
    "from mappings import Mappings\n",
    "from ontology import Ontology"
   ]
  },
  {
   "cell_type": "markdown",
   "id": "f5e7e4c2",
   "metadata": {},
   "source": [
    "## Provide files ##"
   ]
  },
  {
   "cell_type": "markdown",
   "id": "2d2b1e49",
   "metadata": {},
   "source": [
    "**Data set**"
   ]
  },
  {
   "cell_type": "code",
   "execution_count": null,
   "id": "298c1cdb",
   "metadata": {},
   "outputs": [],
   "source": [
    "data_dir = Path('../../../data/examples')"
   ]
  },
  {
   "cell_type": "code",
   "execution_count": null,
   "id": "9fcbb657",
   "metadata": {},
   "outputs": [],
   "source": [
    "#trans_data = Path.cwd()/'data_maldi_UU_2_updated.xlsx'\n",
    "trans_data = data_dir/'data_maldi_UU_2_updated.csv'"
   ]
  },
  {
   "cell_type": "markdown",
   "id": "3230365b",
   "metadata": {},
   "source": [
    "**Mapping file**"
   ]
  },
  {
   "cell_type": "code",
   "execution_count": null,
   "id": "80de6eb3",
   "metadata": {},
   "outputs": [],
   "source": [
    "config = data_dir/'result_new.yml'"
   ]
  },
  {
   "cell_type": "markdown",
   "id": "d45d7951",
   "metadata": {},
   "source": [
    "**Ontology schema**"
   ]
  },
  {
   "cell_type": "code",
   "execution_count": null,
   "id": "0e976f40",
   "metadata": {},
   "outputs": [],
   "source": [
    "ont_file = Path.cwd()/'trans_ont.owl'"
   ]
  },
  {
   "cell_type": "markdown",
   "id": "859b97ab",
   "metadata": {},
   "source": [
    "## Map data ##"
   ]
  },
  {
   "cell_type": "markdown",
   "id": "566e7d13",
   "metadata": {},
   "source": [
    "**Parse data**"
   ]
  },
  {
   "cell_type": "code",
   "execution_count": null,
   "id": "c62f97cd",
   "metadata": {},
   "outputs": [],
   "source": [
    "#dataset = pd.read_excel(trans_data).fillna(method='ffill',axis=0).fillna('')\n",
    "dataset = pd.read_csv(trans_data,delimiter=':').fillna(method='ffill',axis=0).fillna('')"
   ]
  },
  {
   "cell_type": "code",
   "execution_count": null,
   "id": "29599562",
   "metadata": {},
   "outputs": [],
   "source": [
    "columns = dataset.columns.values.tolist()"
   ]
  },
  {
   "cell_type": "markdown",
   "id": "6c36d64d",
   "metadata": {},
   "source": [
    "**Determine which data columns correspond to which classes in the ontology**"
   ]
  },
  {
   "cell_type": "code",
   "execution_count": null,
   "id": "d3c7f262",
   "metadata": {},
   "outputs": [],
   "source": [
    "mappings = Mappings(config, columns)"
   ]
  },
  {
   "cell_type": "markdown",
   "id": "2a42c126",
   "metadata": {},
   "source": [
    "**Create the (empty) classes in the ontology**"
   ]
  },
  {
   "cell_type": "code",
   "execution_count": null,
   "id": "f539a310",
   "metadata": {},
   "outputs": [],
   "source": [
    " ontology = Ontology(ont_file)"
   ]
  },
  {
   "cell_type": "markdown",
   "id": "6f7cc088",
   "metadata": {},
   "source": [
    "**Create instances and populate ontology**"
   ]
  },
  {
   "cell_type": "code",
   "execution_count": null,
   "id": "21615f96",
   "metadata": {},
   "outputs": [],
   "source": [
    "for _, row in dataset.iterrows():\n",
    "    # check for the required field\n",
    "    # if it doesn't exit then run it for each row\n",
    "    if mappings.required_field is None or row[mappings.required_field]:\n",
    "        ontology.populate_ontology(mappings, row,columns)"
   ]
  },
  {
   "cell_type": "markdown",
   "id": "86f3dfd4",
   "metadata": {},
   "source": [
    "## Check linked data##"
   ]
  },
  {
   "cell_type": "code",
   "execution_count": null,
   "id": "70850619",
   "metadata": {},
   "outputs": [],
   "source": [
    "ontology.get_classes()"
   ]
  },
  {
   "cell_type": "code",
   "execution_count": null,
   "id": "71623e46",
   "metadata": {},
   "outputs": [],
   "source": [
    "ontology.get_existing_individuals()"
   ]
  }
 ],
 "metadata": {
  "kernelspec": {
   "display_name": "Python 3",
   "language": "python",
   "name": "python3"
  },
  "language_info": {
   "codemirror_mode": {
    "name": "ipython",
    "version": 3
   },
   "file_extension": ".py",
   "mimetype": "text/x-python",
   "name": "python",
   "nbconvert_exporter": "python",
   "pygments_lexer": "ipython3",
   "version": "3.9.6"
  }
 },
 "nbformat": 4,
 "nbformat_minor": 5
}
